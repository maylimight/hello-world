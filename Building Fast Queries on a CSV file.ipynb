{
 "cells": [
  {
   "cell_type": "markdown",
   "metadata": {},
   "source": [
    "# Building Fast Queries on a CSV\n",
    "\n",
    "We will imagine that we own an online laptop store and want to build a way to answer a few different business questions about our inventory.\n",
    "\n",
    "In general, the task is to create a class to search for specific information in the selected file. Next, measure its performance and then refine it so that it works faster.\n",
    "\n",
    "At first we need to create a `class which saves a csv file in appropriate form` for further analysis.  \n",
    "Separating the header and rows and putting them into **self.variables**."
   ]
  },
  {
   "cell_type": "code",
   "execution_count": 3,
   "metadata": {},
   "outputs": [
    {
     "name": "stdout",
     "output_type": "stream",
     "text": [
      "Header:\n",
      "['Id', 'Company', 'Product', 'TypeName', 'Inches', 'ScreenResolution', 'Cpu', 'Ram', 'Memory', 'Gpu', 'OpSys', 'Weight', 'Price']\n",
      "Length of file:\n",
      "1303\n",
      "First 5 rows:\n",
      "['6571244', 'Apple', 'MacBook Pro', 'Ultrabook', '13.3', 'IPS Panel Retina Display 2560x1600', 'Intel Core i5 2.3GHz', '8GB', '128GB SSD', 'Intel Iris Plus Graphics 640', 'macOS', '1.37kg', 1339]\n",
      "['7287764', 'Apple', 'Macbook Air', 'Ultrabook', '13.3', '1440x900', 'Intel Core i5 1.8GHz', '8GB', '128GB Flash Storage', 'Intel HD Graphics 6000', 'macOS', '1.34kg', 898]\n",
      "['3362737', 'HP', '250 G6', 'Notebook', '15.6', 'Full HD 1920x1080', 'Intel Core i5 7200U 2.5GHz', '8GB', '256GB SSD', 'Intel HD Graphics 620', 'No OS', '1.86kg', 575]\n",
      "['9722156', 'Apple', 'MacBook Pro', 'Ultrabook', '15.4', 'IPS Panel Retina Display 2880x1800', 'Intel Core i7 2.7GHz', '16GB', '512GB SSD', 'AMD Radeon Pro 455', 'macOS', '1.83kg', 2537]\n",
      "['8550527', 'Apple', 'MacBook Pro', 'Ultrabook', '13.3', 'IPS Panel Retina Display 2560x1600', 'Intel Core i5 3.1GHz', '8GB', '256GB SSD', 'Intel Iris Plus Graphics 650', 'macOS', '1.37kg', 1803]\n"
     ]
    }
   ],
   "source": [
    "import csv\n",
    "\n",
    "class Inventory():\n",
    "    \n",
    "    def __init__(self, csv_filename):\n",
    "        with open(csv_filename) as open_f:\n",
    "            file = list(csv.reader(open_f))\n",
    "        self.header = file[0]\n",
    "        self.rows = file[1:]\n",
    "        for row in self.rows:\n",
    "            row[-1] = int(row[-1])\n",
    "            \n",
    "laptops = Inventory('laptops.csv')\n",
    "print(f'Header:\\n{laptops.header}\\nLength of file:\\n{len(laptops.rows)}\\nFirst 5 rows:')\n",
    "for row in laptops.rows[:5]:\n",
    "    print(row)"
   ]
  },
  {
   "cell_type": "markdown",
   "metadata": {},
   "source": [
    "# Getting laptop info from ID\n",
    "\n",
    "Next we adding a **get_laptop_from_id** method.  \n",
    "A method returns the whole row with laptop information by passing it an ID string. The laptop info stored in **laptops.rows**."
   ]
  },
  {
   "cell_type": "code",
   "execution_count": 4,
   "metadata": {},
   "outputs": [
    {
     "name": "stdout",
     "output_type": "stream",
     "text": [
      "['3362737', 'HP', '250 G6', 'Notebook', '15.6', 'Full HD 1920x1080', 'Intel Core i5 7200U 2.5GHz', '8GB', '256GB SSD', 'Intel HD Graphics 620', 'No OS', '1.86kg', 575]\n",
      "None\n"
     ]
    }
   ],
   "source": [
    "class Inventory():\n",
    "    \n",
    "    def __init__(self, csv_filename): # 'csv_filename.csv'\n",
    "        with open(csv_filename) as open_f:\n",
    "            file = list(csv.reader(open_f))\n",
    "        self.header = file[0]\n",
    "        self.rows = file[1:]\n",
    "        for row in self.rows:\n",
    "            row[-1] = int(row[-1])\n",
    "        \n",
    "    def get_laptop_from_id(self, laptop_id): # 'laptop_id'\n",
    "        for row in self.rows:\n",
    "            if row[0] == laptop_id:\n",
    "                return row\n",
    "        return None\n",
    "            \n",
    "laptops = Inventory('laptops.csv')\n",
    "print(laptops.get_laptop_from_id('3362737'))\n",
    "print(laptops.get_laptop_from_id('3362736'))"
   ]
  },
  {
   "cell_type": "markdown",
   "metadata": {},
   "source": [
    "# Improving ID lookups\n",
    "\n",
    "The `previous decision` has `time complexity O(R)`, where R - is the number of rows in a file (our file is list of lists).\n",
    "\n",
    "`Here` is implementation of `O(1) time complexity` - by creating a dictionary for faster lookup instead of storing our laptops data set in a list (`self.id_to_row, dict vs self.rows, list`)."
   ]
  },
  {
   "cell_type": "code",
   "execution_count": 5,
   "metadata": {},
   "outputs": [
    {
     "name": "stdout",
     "output_type": "stream",
     "text": [
      "['3362737', 'HP', '250 G6', 'Notebook', '15.6', 'Full HD 1920x1080', 'Intel Core i5 7200U 2.5GHz', '8GB', '256GB SSD', 'Intel HD Graphics 620', 'No OS', '1.86kg', 575]\n",
      "None\n"
     ]
    }
   ],
   "source": [
    "class Inventory():\n",
    "    \n",
    "    def __init__(self, csv_filename): # 'csv_filename.csv'\n",
    "        with open(csv_filename) as open_f:\n",
    "            file = list(csv.reader(open_f))\n",
    "        self.header = file[0]\n",
    "        self.rows = file[1:]\n",
    "        for row in self.rows:\n",
    "            row[-1] = int(row[-1])\n",
    "        self.id_to_row = {}\n",
    "        for row in self.rows:\n",
    "            self.id_to_row[row[0]] = row\n",
    "        \n",
    "    def get_laptop_from_id(self, laptop_id): # 'laptop_id'\n",
    "        for row in self.rows:\n",
    "            if row[0] == laptop_id:\n",
    "                return row\n",
    "        return None\n",
    "    \n",
    "    def get_laptop_from_id_fast(self, laptop_id): # 'laptop_id'\n",
    "        if laptop_id in self.id_to_row:\n",
    "            return self.id_to_row[laptop_id]\n",
    "        return None\n",
    "            \n",
    "laptops = Inventory('laptops.csv')\n",
    "print(laptops.get_laptop_from_id_fast('3362737'))\n",
    "print(laptops.get_laptop_from_id_fast('3362736'))"
   ]
  },
  {
   "cell_type": "markdown",
   "metadata": {},
   "source": [
    "# Comparing the Performance\n",
    "\n",
    "Let's compare the `execution speed` of our lookup methods - **get_laptop_from_id** and **get_laptop_from_id_fast**.  \n",
    "First step is to `generate the ids object with 10.000 queries` with string ID (in ID range) using random module.  \n",
    "Second step is to `measure the execution time` by using time module."
   ]
  },
  {
   "cell_type": "code",
   "execution_count": 6,
   "metadata": {},
   "outputs": [
    {
     "name": "stdout",
     "output_type": "stream",
     "text": [
      "Lookup time without dictionary: 1.34343\n",
      "Lookup time with dictionary: 0.00538\n"
     ]
    }
   ],
   "source": [
    "import time, random\n",
    "\n",
    "ids = [str(random.randint(1000000, 9999999)) for _ in range(10000)]\n",
    "\n",
    "total_time_no_dict = 0\n",
    "for each_id in ids:\n",
    "    start = time.time()\n",
    "    laptops.get_laptop_from_id(each_id)\n",
    "    end = time.time()\n",
    "    total_time_no_dict += end - start\n",
    "    \n",
    "total_time_dict = 0\n",
    "for each_id in ids:\n",
    "    start = time.time()\n",
    "    laptops.get_laptop_from_id_fast(each_id)\n",
    "    end = time.time()\n",
    "    total_time_dict += end - start\n",
    "    \n",
    "print(f'Lookup time without dictionary: {round(total_time_no_dict, 5)}\\nLookup time with dictionary: {round(total_time_dict, 5)}')"
   ]
  },
  {
   "cell_type": "markdown",
   "metadata": {},
   "source": [
    "The `method with generating a dictionary` first is `faster more than 250 times`!  \n",
    "Thus, in presence of repeating queries, for quick handling it is better to preprocess our data first.\n",
    "\n",
    "# Two laptop promotion check\n",
    "\n",
    "Next, with promotion and give card with `precise sum for up to two laptops`, we need to check whether there are such two laptops (we can take both the same model).  \n",
    "Adding method **check_promotion_dollars** to our Inventory class, where **dollars** is the exact sum of 1 or 2 laptops."
   ]
  },
  {
   "cell_type": "code",
   "execution_count": 12,
   "metadata": {},
   "outputs": [
    {
     "name": "stdout",
     "output_type": "stream",
     "text": [
      "It is possible to buy 1 or 2 laptops on 1000 $: True\n",
      "It is possible to buy 1 or 2 laptops on 442 $: False\n"
     ]
    }
   ],
   "source": [
    "class Inventory():\n",
    "    \n",
    "    def __init__(self, csv_filename): # 'csv_filename.csv'\n",
    "        with open(csv_filename) as open_f:\n",
    "            file = list(csv.reader(open_f))\n",
    "        self.header = file[0]\n",
    "        self.rows = file[1:]\n",
    "        for row in self.rows:\n",
    "            row[-1] = int(row[-1])\n",
    "        self.id_to_row = {}\n",
    "        self.prices = set()\n",
    "        for row in self.rows:\n",
    "            self.id_to_row[row[0]] = row\n",
    "            self.prices.add(row[-1])\n",
    "            \n",
    "    def get_laptop_from_id(self, laptop_id): # 'laptop_id'\n",
    "        for row in self.rows:\n",
    "            if row[0] == laptop_id:\n",
    "                return row\n",
    "        return None\n",
    "    \n",
    "    def get_laptop_from_id_fast(self, laptop_id): # 'laptop_id'\n",
    "        if laptop_id in self.id_to_row:\n",
    "            return self.id_to_row[laptop_id]\n",
    "        return None\n",
    "    \n",
    "    def check_promotion_dollars(self, dollars):\n",
    "        for row in self.rows:\n",
    "            if dollars == row[-1]:\n",
    "                return True\n",
    "        for row1 in self.rows:\n",
    "            for row2 in self.rows:\n",
    "                if (row1[-1] + row2[-1]) == dollars:\n",
    "                    return True\n",
    "        return False\n",
    "\n",
    "            \n",
    "laptops = Inventory('laptops.csv')\n",
    "print(f'It is possible to buy 1 or 2 laptops on 1000 $: {laptops.check_promotion_dollars(1000)}\\nIt is possible to buy 1 or 2 laptops on 442 $: {laptops.check_promotion_dollars(442)}')"
   ]
  },
  {
   "cell_type": "markdown",
   "metadata": {},
   "source": [
    "# Optimization of two laptop promo check\n",
    "\n",
    "To let our code run faster, let's implement **check_promotion_dollars_fast**, which will check the set instead of a list. The **self.prices** set was added to the init method."
   ]
  },
  {
   "cell_type": "code",
   "execution_count": 13,
   "metadata": {},
   "outputs": [
    {
     "name": "stdout",
     "output_type": "stream",
     "text": [
      "It is possible to buy 1 or 2 laptops on 1000 $: True\n",
      "It is possible to buy 1 or 2 laptops on 442 $: False\n"
     ]
    }
   ],
   "source": [
    "class Inventory():\n",
    "    \n",
    "    def __init__(self, csv_filename): # 'csv_filename.csv'\n",
    "        with open(csv_filename) as open_f:\n",
    "            file = list(csv.reader(open_f))\n",
    "        self.header = file[0]\n",
    "        self.rows = file[1:]\n",
    "        for row in self.rows:\n",
    "            row[-1] = int(row[-1])\n",
    "        self.id_to_row = {}\n",
    "        self.prices = set()\n",
    "        for row in self.rows:\n",
    "            self.id_to_row[row[0]] = row\n",
    "            self.prices.add(row[-1])\n",
    "            \n",
    "    def get_laptop_from_id(self, laptop_id): # 'laptop_id'\n",
    "        for row in self.rows:\n",
    "            if row[0] == laptop_id:\n",
    "                return row\n",
    "        return None\n",
    "    \n",
    "    def get_laptop_from_id_fast(self, laptop_id): # 'laptop_id'\n",
    "        if laptop_id in self.id_to_row:\n",
    "            return self.id_to_row[laptop_id]\n",
    "        return None\n",
    "    \n",
    "    def check_promotion_dollars(self, dollars):\n",
    "        for row in self.rows:\n",
    "            if dollars == row[-1]:\n",
    "                return True\n",
    "        for row1 in self.rows:\n",
    "            for row2 in self.rows:\n",
    "                if (row1[-1] + row2[-1]) == dollars:\n",
    "                    return True\n",
    "        return False\n",
    "    def check_promotion_dollars_fast(self, dollars):\n",
    "        if dollars in self.prices:\n",
    "            return True\n",
    "        for row in self.rows:\n",
    "            if (dollars - row[-1]) in self.prices:\n",
    "                return True\n",
    "        return False\n",
    "            \n",
    "laptops = Inventory('laptops.csv')\n",
    "print(f'It is possible to buy 1 or 2 laptops on 1000 $: {laptops.check_promotion_dollars_fast(1000)}\\nIt is possible to buy 1 or 2 laptops on 442 $: {laptops.check_promotion_dollars_fast(442)}')"
   ]
  },
  {
   "cell_type": "markdown",
   "metadata": {},
   "source": [
    "# Comparing two methods\n",
    "\n",
    "To measure the execution time of **check_promotion_dollars** and **check_promotion_dollars_fast** we again refer to time and random modules."
   ]
  },
  {
   "cell_type": "code",
   "execution_count": 15,
   "metadata": {},
   "outputs": [
    {
     "name": "stdout",
     "output_type": "stream",
     "text": [
      "Method without set, time: 0.7590384483337402\n",
      "Method with set, time: 0.0007834434509277344\n"
     ]
    }
   ],
   "source": [
    "prices = [random.randint(100, 5000) for _ in range(100)]\n",
    "laptops = Inventory('laptops.csv')\n",
    "\n",
    "total_time_no_set = 0\n",
    "for price in prices:\n",
    "    start = time.time()\n",
    "    laptops.check_promotion_dollars(price)\n",
    "    end = time.time()\n",
    "    total_time_no_set += end - start\n",
    "    \n",
    "total_time_set = 0\n",
    "for price in prices:\n",
    "    start = time.time()\n",
    "    laptops.check_promotion_dollars_fast(price)\n",
    "    end = time.time()\n",
    "    total_time_set += end - start\n",
    "    \n",
    "print(f'Method without set, time: {total_time_no_set}\\nMethod with set, time: {total_time_set}')"
   ]
  },
  {
   "cell_type": "markdown",
   "metadata": {},
   "source": [
    "Lookup in a set takes 0.001 second, while in a list - 1.5 second.  \n",
    "Far more efficient in this case is to make a set from a list of lists - if lookup queries will be repeated.\n",
    "\n",
    "# Binary search on laptops within a budget\n",
    "\n",
    "Using binary search, we can find laptop that either be equal to our budget or first laptop over our budget.  \n",
    "We can do this using sorted by price list - **self.rows_by_price** is added to the init method.  \n",
    "Thus, we will find the index of the row with laptop info, which will be the first expensive one that we can afford. Or we'll get **-1** - if there are none of laptops in the budget."
   ]
  },
  {
   "cell_type": "code",
   "execution_count": 10,
   "metadata": {},
   "outputs": [
    {
     "name": "stdout",
     "output_type": "stream",
     "text": [
      "682 1302\n"
     ]
    }
   ],
   "source": [
    "class Inventory():\n",
    "    \n",
    "    def __init__(self, csv_filename): # 'csv_filename.csv'\n",
    "        with open(csv_filename) as open_f:\n",
    "            file = list(csv.reader(open_f))\n",
    "        self.header = file[0]\n",
    "        self.rows = file[1:]\n",
    "        for row in self.rows:\n",
    "            row[-1] = int(row[-1])\n",
    "        self.id_to_row = {}\n",
    "        self.prices = set()\n",
    "        for row in self.rows:\n",
    "            self.id_to_row[row[0]] = row\n",
    "            self.prices.add(row[-1])\n",
    "        def row_price(row):\n",
    "            return row[-1]\n",
    "        self.rows_by_price = sorted(self.rows, key = row_price)\n",
    "            \n",
    "    def get_laptop_from_id(self, laptop_id): # 'laptop_id'\n",
    "        for row in self.rows:\n",
    "            if row[0] == laptop_id:\n",
    "                return row\n",
    "        return None\n",
    "    \n",
    "    def get_laptop_from_id_fast(self, laptop_id): # 'laptop_id'\n",
    "        if laptop_id in self.id_to_row:\n",
    "            return self.id_to_row[laptop_id]\n",
    "        return None\n",
    "    \n",
    "    def check_promotion_dollars(self, dollars):\n",
    "        for row in self.rows:\n",
    "            if dollars == row[-1]:\n",
    "                return True\n",
    "        for row1 in self.rows:\n",
    "            for row2 in self.rows:\n",
    "                if (row1[-1] + row2[-1]) == dollars:\n",
    "                    return True\n",
    "        return False\n",
    "    def check_promotion_dollars_fast(self, dollars):\n",
    "        if dollars in self.prices:\n",
    "            return True\n",
    "        for row in self.rows:\n",
    "            if (dollars - row[-1]) in self.prices:\n",
    "                return True\n",
    "        return False\n",
    "    def find_first_laptop_more_expensive(self, price):\n",
    "        start = 0\n",
    "        end = len(self.rows_by_price) - 1\n",
    "        if price < self.rows_by_price[-1][-1] and price >= self.rows_by_price[0][-1]:\n",
    "            while start < end:\n",
    "                middle = (start + end) // 2\n",
    "                if self.rows_by_price[middle][-1] == price:\n",
    "                    return middle\n",
    "                elif self.rows_by_price[middle][-1] > price:\n",
    "                    end = middle - 1\n",
    "                else:\n",
    "                    start = middle + 1\n",
    "            return middle - 1\n",
    "        elif price >= self.rows_by_price[-1][-1]:\n",
    "            return len(self.rows_by_price) - 1\n",
    "        else:\n",
    "            return -1\n",
    "        \n",
    "laptops = Inventory('laptops.csv')\n",
    "print(laptops.find_first_laptop_more_expensive(1000), laptops.find_first_laptop_more_expensive(10000))"
   ]
  },
  {
   "cell_type": "markdown",
   "metadata": {},
   "source": [
    "Now we know that `on 1 000 we can buy any laptop, starting from` the first (index 0) `till` 683 (index 682) `in our sorted data set`.  \n",
    "And on 10 000 we can buy any of 1303 (last index 1302) models."
   ]
  },
  {
   "cell_type": "markdown",
   "metadata": {},
   "source": [
    "# Findings\n",
    "\n",
    "Lookup in a set takes 0.001 second, while in a list - 1.5 second.  \n",
    "Far more efficient in this case is to make a set from a list of lists - if lookup queries will be repeated."
   ]
  }
 ],
 "metadata": {
  "kernelspec": {
   "display_name": "Python 3",
   "language": "python",
   "name": "python3"
  },
  "language_info": {
   "codemirror_mode": {
    "name": "ipython",
    "version": 3
   },
   "file_extension": ".py",
   "mimetype": "text/x-python",
   "name": "python",
   "nbconvert_exporter": "python",
   "pygments_lexer": "ipython3",
   "version": "3.8.2"
  }
 },
 "nbformat": 4,
 "nbformat_minor": 2
}
