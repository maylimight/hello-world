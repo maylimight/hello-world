{
 "cells": [
  {
   "cell_type": "markdown",
   "metadata": {
    "collapsed": true
   },
   "source": [
    "# Hacker News posts: right post type and time for collecting the comments\n",
    "\n",
    "In this small project we will compare two types of posts from `Hacker News` (HN) site, filled with technology related posts, - `Ask HN` and `Show HN`.  \n",
    "Ask HN are posts where users asking for community advise, while Show HN are posts with intention to show other users something interesting.\n",
    "\n",
    "The goal is to determine if `Ask HN or Show HN receive more comments on average` and `do posts created at a certain time recieve more comments on average`.\n",
    "\n",
    "For realization we will use sample (20 000 out of 300 000 rows) from Hacker News data set - sample is made by omitting posts without comments, and then choosing rows randomly from the rest of the data."
   ]
  },
  {
   "cell_type": "markdown",
   "metadata": {},
   "source": [
    "# Preparing the data\n",
    "\n",
    "Let's firstly look at first five rows from our data set:"
   ]
  },
  {
   "cell_type": "code",
   "execution_count": 2,
   "metadata": {},
   "outputs": [
    {
     "name": "stdout",
     "output_type": "stream",
     "text": [
      "['id', 'title', 'url', 'num_points', 'num_comments', 'author', 'created_at']\n",
      "['12224879', 'Interactive Dynamic Video', 'http://www.interactivedynamicvideo.com/', '386', '52', 'ne0phyte', '8/4/2016 11:52'] \n",
      "\n",
      "['10975351', 'How to Use Open Source and Shut the Fuck Up at the Same Time', 'http://hueniverse.com/2016/01/26/how-to-use-open-source-and-shut-the-fuck-up-at-the-same-time/', '39', '10', 'josep2', '1/26/2016 19:30'] \n",
      "\n",
      "['11964716', \"Florida DJs May Face Felony for April Fools' Water Joke\", 'http://www.thewire.com/entertainment/2013/04/florida-djs-april-fools-water-joke/63798/', '2', '1', 'vezycash', '6/23/2016 22:20'] \n",
      "\n",
      "['11919867', 'Technology ventures: From Idea to Enterprise', 'https://www.amazon.com/Technology-Ventures-Enterprise-Thomas-Byers/dp/0073523429', '3', '1', 'hswarna', '6/17/2016 0:01'] \n",
      "\n",
      "['10301696', 'Note by Note: The Making of Steinway L1037 (2007)', 'http://www.nytimes.com/2007/11/07/movies/07stein.html?_r=0', '8', '2', 'walterbell', '9/30/2015 4:12'] \n",
      "\n"
     ]
    }
   ],
   "source": [
    "from csv import reader\n",
    "import datetime as dt\n",
    "\n",
    "opened_hn = open('hacker_news.csv')\n",
    "read_hn = reader(opened_hn)\n",
    "list_hn = list(read_hn)\n",
    "headers = list_hn[0]\n",
    "hn = list_hn[1:]\n",
    "opened_hn.close()\n",
    "\n",
    "print(headers)\n",
    "for row in hn[:5]:\n",
    "    print(row, '\\n')"
   ]
  },
  {
   "cell_type": "markdown",
   "metadata": {},
   "source": [
    "Now we can filter out entries that we need - those, which starts with `ask hn` and `show hn`."
   ]
  },
  {
   "cell_type": "code",
   "execution_count": 3,
   "metadata": {},
   "outputs": [
    {
     "name": "stdout",
     "output_type": "stream",
     "text": [
      "Number of ask posts: 1744\n",
      "Number of show posts: 1162\n",
      "Number of other posts: 17194\n"
     ]
    }
   ],
   "source": [
    "ask_posts = []\n",
    "show_posts = []\n",
    "other_posts = []\n",
    "\n",
    "for row in hn:\n",
    "    title = row[1]\n",
    "    if title.lower().startswith('ask hn'):\n",
    "        ask_posts.append(row)\n",
    "    elif title.lower().startswith('show hn'):\n",
    "        show_posts.append(row)\n",
    "    else:\n",
    "        other_posts.append(row)\n",
    "        \n",
    "print(\n",
    "f'''Number of ask posts: {len(ask_posts)}\n",
    "Number of show posts: {len(show_posts)}\n",
    "Number of other posts: {len(other_posts)}'''\n",
    ")"
   ]
  },
  {
   "cell_type": "markdown",
   "metadata": {},
   "source": [
    "# Calculation of average amount of comments for Ask and Show posts\n",
    "\n",
    "Next step is to find average amount of comments for both ask and show posts."
   ]
  },
  {
   "cell_type": "code",
   "execution_count": 4,
   "metadata": {},
   "outputs": [
    {
     "name": "stdout",
     "output_type": "stream",
     "text": [
      "Average number of comments for ask post: 14.04\n",
      "Average number of comments for show post: 10.32\n"
     ]
    }
   ],
   "source": [
    "total_ask_comments = 0\n",
    "for row in ask_posts:\n",
    "    total_ask_comments += int(row[4])\n",
    "    \n",
    "avg_ask_comments = total_ask_comments / len(ask_posts)\n",
    "\n",
    "total_show_comments = 0\n",
    "for row in show_posts:\n",
    "    total_show_comments += int(row[4])\n",
    "    \n",
    "avg_show_comments = total_show_comments / len(show_posts)\n",
    "\n",
    "print(\n",
    "f'''Average number of comments for ask post: {round(avg_ask_comments, 2)}\n",
    "Average number of comments for show post: {round(avg_show_comments, 2)}'''\n",
    ")"
   ]
  },
  {
   "cell_type": "markdown",
   "metadata": {},
   "source": [
    "We could see that `users comment on ask posts more often` than on show posts.  \n",
    "So let's focus our further analisys on this type of posts.\n",
    "\n",
    "# Calculation of average amount of comments per hour\n",
    "\n",
    "Next, we will generate a list with time and number of comments for each ask post."
   ]
  },
  {
   "cell_type": "code",
   "execution_count": 5,
   "metadata": {},
   "outputs": [
    {
     "name": "stdout",
     "output_type": "stream",
     "text": [
      "Posts, by hour:\n",
      "\n",
      "0:55 posts\n",
      "1:60 posts\n",
      "2:58 posts\n",
      "3:54 posts\n",
      "4:47 posts\n",
      "5:46 posts\n",
      "6:44 posts\n",
      "7:34 posts\n",
      "8:48 posts\n",
      "9:45 posts\n",
      "10:59 posts\n",
      "11:58 posts\n",
      "12:73 posts\n",
      "13:85 posts\n",
      "14:107 posts\n",
      "15:116 posts\n",
      "16:108 posts\n",
      "17:100 posts\n",
      "18:109 posts\n",
      "19:110 posts\n",
      "20:80 posts\n",
      "21:109 posts\n",
      "22:71 posts\n",
      "23:68 posts\n",
      "\n",
      "Comments, by hour:\n",
      "\n",
      "0:447 comments\n",
      "1:683 comments\n",
      "2:1381 comments\n",
      "3:421 comments\n",
      "4:337 comments\n",
      "5:464 comments\n",
      "6:397 comments\n",
      "7:267 comments\n",
      "8:492 comments\n",
      "9:251 comments\n",
      "10:793 comments\n",
      "11:641 comments\n",
      "12:687 comments\n",
      "13:1253 comments\n",
      "14:1416 comments\n",
      "15:4477 comments\n",
      "16:1814 comments\n",
      "17:1146 comments\n",
      "18:1439 comments\n",
      "19:1188 comments\n",
      "20:1722 comments\n",
      "21:1745 comments\n",
      "22:479 comments\n",
      "23:543 comments\n"
     ]
    }
   ],
   "source": [
    "result_list = []\n",
    "\n",
    "for post in ask_posts:\n",
    "    result_list.append([post[6], int(post[4])])\n",
    "    \n",
    "counts_by_hour = {}\n",
    "comments_by_hour = {}\n",
    "\n",
    "for pair in result_list:\n",
    "    date = dt.datetime.strptime(pair[0], '%m/%d/%Y %H:%M')\n",
    "    hour = date.hour\n",
    "    if hour not in counts_by_hour:\n",
    "        counts_by_hour[hour] = 1\n",
    "        comments_by_hour[hour] = pair[1]\n",
    "    else:\n",
    "        counts_by_hour[hour] += 1\n",
    "        comments_by_hour[hour] += pair[1]\n",
    "\n",
    "print(f'Posts, by hour:\\n')\n",
    "for hour in sorted(counts_by_hour):\n",
    "    print(f'{hour}:{counts_by_hour[hour]} posts')\n",
    "print(f'\\nComments, by hour:\\n')\n",
    "for hour in sorted(comments_by_hour):\n",
    "    print(f'{hour}:{comments_by_hour[hour]} comments')"
   ]
  },
  {
   "cell_type": "markdown",
   "metadata": {},
   "source": [
    "As we can see, `the largest number of posts` are between `14.00 - 19.00`, and time for comments is about 2.00 and between 13.00 - 21.00.\n",
    "\n",
    "To normalize this data and remove the cases where individual posts receive the most comments, it is worth finding a more reliable value.  \n",
    "It is the `average comments value per hour`, dividing them on number of posts per hour."
   ]
  },
  {
   "cell_type": "code",
   "execution_count": 6,
   "metadata": {
    "scrolled": false
   },
   "outputs": [
    {
     "name": "stdout",
     "output_type": "stream",
     "text": [
      "Average amount of comments per hour\n",
      "\n",
      "0:8.13\n",
      "1:11.38\n",
      "2:23.81\n",
      "3:7.8\n",
      "4:7.17\n",
      "5:10.09\n",
      "6:9.02\n",
      "7:7.85\n",
      "8:10.25\n",
      "9:5.58\n",
      "10:13.44\n",
      "11:11.05\n",
      "12:9.41\n",
      "13:14.74\n",
      "14:13.23\n",
      "15:38.59\n",
      "16:16.8\n",
      "17:11.46\n",
      "18:13.2\n",
      "19:10.8\n",
      "20:21.52\n",
      "21:16.01\n",
      "22:6.75\n",
      "23:7.99\n"
     ]
    }
   ],
   "source": [
    "avg_by_hour = []\n",
    "\n",
    "for hour in sorted(counts_by_hour):\n",
    "    posts = counts_by_hour[hour]\n",
    "    comments = comments_by_hour[hour]\n",
    "    avg_by_hour.append([hour, comments/posts])\n",
    "        \n",
    "print(f'Average amount of comments per hour\\n')\n",
    "\n",
    "for pair in avg_by_hour:\n",
    "    print(f'{pair[0]}:{round(pair[1], 2)}')"
   ]
  },
  {
   "cell_type": "markdown",
   "metadata": {},
   "source": [
    "Thus, we found the most popular hours for comments (more than 20 comments per post on average): 2.00, 15.00, 20.00.\n",
    "\n",
    "Now let's translate it in more universal form."
   ]
  },
  {
   "cell_type": "code",
   "execution_count": 9,
   "metadata": {},
   "outputs": [
    {
     "name": "stdout",
     "output_type": "stream",
     "text": [
      "Top 5 hours for Ask posts comments:\n",
      "\n",
      "15:00 : 38.59\n",
      "02:00 : 23.81\n",
      "20:00 : 21.52\n",
      "16:00 : 16.80\n",
      "21:00 : 16.01\n"
     ]
    }
   ],
   "source": [
    "sorted_avg_by_hour = sorted(avg_by_hour, key = lambda x: x[1], reverse = True)\n",
    "print(f'Top 5 hours for Ask posts comments:\\n')\n",
    "for pair in sorted_avg_by_hour[:5]:\n",
    "    hour = dt.datetime.strptime(str(pair[0]), '%H')\n",
    "    print(f'{hour.strftime(\"%H\")}:00 : {pair[1]:.2f}')"
   ]
  },
  {
   "cell_type": "markdown",
   "metadata": {},
   "source": [
    "Based on this knowledge we can say that `the most productive time for comments` is:  \n",
    "* 15:00 - 17:00  \n",
    "* 20:00 - 22:00  \n",
    "* 2:00 - 3:00\n",
    "\n",
    "But we need to take into account `time difference`.  \n",
    "Our data set has the time zone of `Eastern Time in the US`.\n",
    "If we are located in Vladivostok, Russia, favorable hours for receiving comments will be different (+15 hours):\n",
    "* 6:00 - 8:00  \n",
    "* 11:00 - 13:00  \n",
    "* 17:00 - 18:00"
   ]
  },
  {
   "cell_type": "markdown",
   "metadata": {},
   "source": [
    "# Findings\n",
    "\n",
    "In conclusion, we can say that:\n",
    "\n",
    "* `Ask HN posts` recieve `more comments` than show posts on average (based on posts with comments data)  \n",
    "* there are `hours` when users `comment posts more` on average - `15.00 - 17.00, 20.00 - 22.00, 2.00 - 3.00` (based on ask posts comments data)\n",
    "\n",
    "In addition, we need to keep in mind `time zone` we are making the analysis for and translate it if necessary."
   ]
  }
 ],
 "metadata": {
  "kernelspec": {
   "display_name": "Python 3",
   "language": "python",
   "name": "python3"
  },
  "language_info": {
   "codemirror_mode": {
    "name": "ipython",
    "version": 3
   },
   "file_extension": ".py",
   "mimetype": "text/x-python",
   "name": "python",
   "nbconvert_exporter": "python",
   "pygments_lexer": "ipython3",
   "version": "3.8.2"
  }
 },
 "nbformat": 4,
 "nbformat_minor": 2
}
