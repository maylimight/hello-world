{
 "cells": [
  {
   "cell_type": "markdown",
   "metadata": {},
   "source": [
    "# Which free apps are the most profitable on App Store and Google Play\n",
    "\n",
    "*This project is about analysing applications free to download and install, where main source of revenue will be from in-apps ads.  The thing is that the number of users on free apps is a key indicator of ad revenue of these apps.*\n",
    "\n",
    "*The goal of the project is to understand which applications attract the users more in order to create a vision of those types of apps and, accordingly, target audience of those apps.*\n",
    "\n",
    "*This data representation helps us determine key features of most popular apps, and, in addition, which of those are the most profitable ones.*"
   ]
  },
  {
   "cell_type": "markdown",
   "metadata": {},
   "source": [
    "# Opening and exploring data\n",
    "\n",
    "**At first**, we need a lot of data. As of September 2018, there were approximately 2 million iOS apps available on the App Store, and 2.1 million Android apps on Google Play.\n",
    "\n",
    "Not sure we need it all. In order to save time and money on collecting data, let's take a slice of this data, that is available on the web:\n",
    "\n",
    "* A data set containing data about approximately ten thousand Android apps from `Google Play`. You can download the data set directly from [this link](https://dq-content.s3.amazonaws.com/350/googleplaystore.csv).\n",
    "* A data set containing data about approximately seven thousand iOS apps from the `App Store`. You can download the data set directly from [this link](https://dq-content.s3.amazonaws.com/350/AppleStore.csv).\n",
    "\n",
    "Let's open and explore some of the data inside, AS for App Store, and GS for Google Play Store accordingly:"
   ]
  },
  {
   "cell_type": "code",
   "execution_count": 2,
   "metadata": {},
   "outputs": [],
   "source": [
    "from csv import reader\n",
    "\n",
    "### The App Store data set ###\n",
    "open_apple_apps = open('AppleStore.csv')\n",
    "apple_apps = list(reader(open_apple_apps))\n",
    "apple_apps_header = apple_apps[0]\n",
    "apple_apps = apple_apps[1:]\n",
    "open_apple_apps.close()\n",
    "\n",
    "### The Google Play Store data set ###\n",
    "open_google_apps = open('googleplaystore.csv')\n",
    "google_apps = list(reader(open_google_apps))\n",
    "google_apps_header = google_apps[0]\n",
    "google_apps = google_apps[1:]\n",
    "open_google_apps.close()"
   ]
  },
  {
   "cell_type": "markdown",
   "metadata": {},
   "source": [
    "**Secondly**, we need to create a function to repeatedly retrieve the information inside data sets, with opportunity to see quantity of apps and column headings:"
   ]
  },
  {
   "cell_type": "code",
   "execution_count": 3,
   "metadata": {},
   "outputs": [],
   "source": [
    "def explore_data(data_set, end, start = 0, rows_and_columns=False):\n",
    "    data_set_slice = data_set[start:end]\n",
    "    for row in data_set_slice:\n",
    "        print(row)\n",
    "        print('\\n') # adds a new (empty) line after each row\n",
    "\n",
    "    if rows_and_columns:\n",
    "        print('Number of rows:', len(data_set))\n",
    "        print('Number of columns:', len(data_set[0]))"
   ]
  },
  {
   "cell_type": "markdown",
   "metadata": {},
   "source": [
    "**Next**, let's see what we have on App Store and Google Play Store:"
   ]
  },
  {
   "cell_type": "code",
   "execution_count": 4,
   "metadata": {
    "scrolled": false
   },
   "outputs": [
    {
     "name": "stdout",
     "output_type": "stream",
     "text": [
      "['id', 'track_name', 'size_bytes', 'currency', 'price', 'rating_count_tot', 'rating_count_ver', 'user_rating', 'user_rating_ver', 'ver', 'cont_rating', 'prime_genre', 'sup_devices.num', 'ipadSc_urls.num', 'lang.num', 'vpp_lic'] \n",
      "\n",
      "['284882215', 'Facebook', '389879808', 'USD', '0.0', '2974676', '212', '3.5', '3.5', '95.0', '4+', 'Social Networking', '37', '1', '29', '1']\n",
      "\n",
      "\n",
      "['389801252', 'Instagram', '113954816', 'USD', '0.0', '2161558', '1289', '4.5', '4.0', '10.23', '12+', 'Photo & Video', '37', '0', '29', '1']\n",
      "\n",
      "\n",
      "['529479190', 'Clash of Clans', '116476928', 'USD', '0.0', '2130805', '579', '4.5', '4.5', '9.24.12', '9+', 'Games', '38', '5', '18', '1']\n",
      "\n",
      "\n",
      "Number of rows: 7197\n",
      "Number of columns: 16\n"
     ]
    }
   ],
   "source": [
    "print(apple_apps_header, '\\n')\n",
    "explore_data(apple_apps, 3, 0, True)"
   ]
  },
  {
   "cell_type": "markdown",
   "metadata": {},
   "source": [
    "Here, in `App Store`, we could see 16 columns. Most interesting for us are:\n",
    "\n",
    "`'track_name'`: App name, **index 1**; `'price'`: Price amount, **index 4**; `'rating_count_tot'`: User Rating counts (for all version), **index 5**; `'user_rating'`: Average User Rating value (for all version); `'cont_rating'`: Content Rating; `'prime_genre'`: Primary Genre, **index 11**; `'sup_devices.num'`: Number of supporting devices, `'lang.num'`: Number of supported languages."
   ]
  },
  {
   "cell_type": "code",
   "execution_count": 5,
   "metadata": {},
   "outputs": [
    {
     "name": "stdout",
     "output_type": "stream",
     "text": [
      "['App', 'Category', 'Rating', 'Reviews', 'Size', 'Installs', 'Type', 'Price', 'Content Rating', 'Genres', 'Last Updated', 'Current Ver', 'Android Ver'] \n",
      "\n",
      "['Photo Editor & Candy Camera & Grid & ScrapBook', 'ART_AND_DESIGN', '4.1', '159', '19M', '10,000+', 'Free', '0', 'Everyone', 'Art & Design', 'January 7, 2018', '1.0.0', '4.0.3 and up']\n",
      "\n",
      "\n",
      "['Coloring book moana', 'ART_AND_DESIGN', '3.9', '967', '14M', '500,000+', 'Free', '0', 'Everyone', 'Art & Design;Pretend Play', 'January 15, 2018', '2.0.0', '4.0.3 and up']\n",
      "\n",
      "\n",
      "['U Launcher Lite – FREE Live Cool Themes, Hide Apps', 'ART_AND_DESIGN', '4.7', '87510', '8.7M', '5,000,000+', 'Free', '0', 'Everyone', 'Art & Design', 'August 1, 2018', '1.2.4', '4.0.3 and up']\n",
      "\n",
      "\n",
      "Number of rows: 10841\n",
      "Number of columns: 13\n"
     ]
    }
   ],
   "source": [
    "print(google_apps_header, '\\n')\n",
    "explore_data(google_apps, 3, 0, True)"
   ]
  },
  {
   "cell_type": "markdown",
   "metadata": {},
   "source": [
    "In `Google Play Store` let's highlight the next applications metrics:\n",
    "\n",
    "`'App'`: Application name, **index 0**; `'Category'`: Category the app belongs to, **index 1**; `'Rating'`: Overall user rating of the app; `Reviews`: Number of user reviews for the app, **index 3**; `'Installs'`: Number of user downloads/installs for the app; `'Type'`: Paid or Free; `Price`: Price amount, **index 7**; `'Content Rating'`: Age group the app is targeted at - Children / Mature 21+ / Adult; `'Genres'`: An app can belong to multiple genres (apart from its main category), **index 9**."
   ]
  },
  {
   "cell_type": "markdown",
   "metadata": {},
   "source": [
    "# Cleaning the data\n",
    "\n",
    "First step of analisys is cleaning the data.\n",
    "Lets's start with `incorrect or incomplete data`.\n",
    "\n",
    "Let's have a look at **Google Play Store** data set. From discussion section we could see that there is a problem with the row 10473 - no category of app. We need to delete it and take a look at it again."
   ]
  },
  {
   "cell_type": "code",
   "execution_count": 6,
   "metadata": {},
   "outputs": [
    {
     "name": "stdout",
     "output_type": "stream",
     "text": [
      "['Life Made WI-Fi Touchscreen Photo Frame', '1.9', '19', '3.0M', '1,000+', 'Free', '0', 'Everyone', '', 'February 11, 2018', '1.0.19', '4.0 and up']\n",
      "['osmino Wi-Fi: free WiFi', 'TOOLS', '4.2', '134203', '4.1M', '10,000,000+', 'Free', '0', 'Everyone', 'Tools', 'August 7, 2018', '6.06.14', '4.4 and up']\n"
     ]
    }
   ],
   "source": [
    "print(google_apps[10472])\n",
    "del google_apps[10472]\n",
    "print(google_apps[10472])"
   ]
  },
  {
   "cell_type": "markdown",
   "metadata": {},
   "source": [
    "Could not find any information about errors in App Store data set, except for `data duplication`. Let's check on this, starting from App Store data set.\n",
    "Function **duplicate_check** will take care of this job.\n",
    "Just for our convenience I put app name and it's index in function parametres."
   ]
  },
  {
   "cell_type": "code",
   "execution_count": 7,
   "metadata": {},
   "outputs": [],
   "source": [
    "def duplicate_check(data_set, data_set_name, app_name_index):\n",
    "    print(f'Lenth of {data_set_name} is {len(data_set)}')\n",
    "    duplicate_names = []\n",
    "    unique_names = []\n",
    "    for i in data_set:\n",
    "        if (i[app_name_index] in unique_names) and (i[app_name_index] not in duplicate_names):\n",
    "            duplicate_names.append(i[app_name_index])\n",
    "        elif i[app_name_index] not in unique_names:\n",
    "            unique_names.append(i[app_name_index])\n",
    "    print(f'Quantity of duplicate names: {len(duplicate_names)}\\nSome of duplicates:\\n{duplicate_names[:5]}')"
   ]
  },
  {
   "cell_type": "code",
   "execution_count": 8,
   "metadata": {},
   "outputs": [
    {
     "name": "stdout",
     "output_type": "stream",
     "text": [
      "Lenth of App_Store is 7197\n",
      "Quantity of duplicate names: 2\n",
      "Some of duplicates:\n",
      "['Mannequin Challenge', 'VR Roller Coaster']\n",
      "\n",
      "\n",
      "Lenth of Google_Store is 10840\n",
      "Quantity of duplicate names: 798\n",
      "Some of duplicates:\n",
      "['Quick PDF Scanner + OCR FREE', 'Box', 'Google My Business', 'ZOOM Cloud Meetings', 'join.me - Simple Meetings']\n"
     ]
    }
   ],
   "source": [
    "duplicate_check(apple_apps, 'App_Store', 1)\n",
    "print('\\n')\n",
    "duplicate_check(google_apps, 'Google_Store', 0)"
   ]
  },
  {
   "cell_type": "markdown",
   "metadata": {},
   "source": [
    "In order `not to remove the duplicates randomly` we need to get back to the core of our research.\n",
    "On my opinion, to determine the most profitable apps we need to take into account 2 metrics: the number of downloads and user activity within the application (activity for a certain period).\n",
    "\n",
    "In our data sets we have only `reviews` and its number as `significant metric of popularity` of the app.\n",
    "Thus, I could suggest to remove the data lines with duplicate names which have fewer reviews.\n",
    "Literally, with function **clean_duplicates** we do the following:\n",
    "\n",
    "1. Creating a `dictionary of unique apps` with maximum reviews\n",
    "2. Adding to dictionary only unique apps (names of apps) as keys\n",
    "3. Adding to value the number from review column, if the previous value is lower\n",
    "4. Creatind a final `list of cleaned data set` and auxiliary list (of already added apps' names) in order not to add apps with the same value more than one time\n",
    "5. Adding to final list row from original (non-cleaned) data set, if apps name and its review value matches with ones in `dictionary of unique apps`"
   ]
  },
  {
   "cell_type": "code",
   "execution_count": 9,
   "metadata": {},
   "outputs": [],
   "source": [
    "def clean_duplicates(data_set, name_index, review_index, duplicates_number):\n",
    "    apps_max_reviews = {}\n",
    "    for row in data_set:\n",
    "        name = row[name_index]\n",
    "        review_value = float(row[review_index])\n",
    "        if name in apps_max_reviews and apps_max_reviews[name] < review_value:\n",
    "            apps_max_reviews[name] = review_value\n",
    "        elif name not in apps_max_reviews:\n",
    "            apps_max_reviews[name] = review_value\n",
    "    print(f'Quantity without duplicates must be {len(data_set) - duplicates_number}\\nQuantity of unique apps is {len(apps_max_reviews)}')\n",
    "          \n",
    "    cleaned_data_set = []\n",
    "    already_added = []\n",
    "    for row in data_set:\n",
    "        name = row[name_index]\n",
    "        review_value = float(row[review_index])\n",
    "        if (apps_max_reviews[name] == review_value) and (name not in already_added):\n",
    "            cleaned_data_set.append(row)\n",
    "            already_added.append(name)\n",
    "    print(f'Lenth of cleaned data set is {len(cleaned_data_set)}\\n')\n",
    "    return cleaned_data_set"
   ]
  },
  {
   "cell_type": "code",
   "execution_count": 10,
   "metadata": {
    "scrolled": true
   },
   "outputs": [
    {
     "name": "stdout",
     "output_type": "stream",
     "text": [
      "Quantity without duplicates must be 7195\n",
      "Quantity of unique apps is 7195\n",
      "Lenth of cleaned data set is 7195\n",
      "\n",
      "Quantity without duplicates must be 9659\n",
      "Quantity of unique apps is 9659\n",
      "Lenth of cleaned data set is 9659\n",
      "\n"
     ]
    }
   ],
   "source": [
    "apple_apps = clean_duplicates(apple_apps, 1, 5, 2)\n",
    "google_apps = clean_duplicates(google_apps, 0, 3, 1181)"
   ]
  },
  {
   "cell_type": "markdown",
   "metadata": {},
   "source": [
    "Above, just as expected, there is correct lenth without duplicates for both of cleaned data sets.\n",
    "\n",
    "Next step of cleaning will be `removing non-English data`, because we are developing apps for English-speaking audience.\n",
    "Suggestion is to create a function, that will filter out the apps by its names.\n",
    "Here ASCII standard could help us, it encodes alphabet and many more symbols, - the numbers corresponding to the characters we commonly use in an English text are all in the range 0 to 127, including digits from 0 to 9, punctuation marks and other symbols (for ex.: +, -, /).\n",
    "\n",
    "The thing is that name of application could contain different characters, for example like here: 'Instachat 😜' or 'Docs To Go™ Free Office Suite'. So, it is better to remove the line, if there are many of other characters outside the ASCII system.\n",
    "\n",
    "Thus, if app's name doesn't contain more than 3 characters with ASCII corresponding number over 127 the function **check_if_english** returns True. And further, function **filter_english** will append the line of data to filtered data set."
   ]
  },
  {
   "cell_type": "code",
   "execution_count": 11,
   "metadata": {},
   "outputs": [],
   "source": [
    "def check_if_english(name):\n",
    "    name_check = []\n",
    "    for symbol in name:\n",
    "            if ord(symbol) > 127:\n",
    "                name_check.append(symbol)\n",
    "            if len(name_check) > 3:\n",
    "                return False\n",
    "    return True\n",
    "            \n",
    "def filter_english(data_set, name_index):\n",
    "    filtered_data_set = []\n",
    "    for row in data_set:\n",
    "        if check_if_english(row[name_index]):\n",
    "            filtered_data_set.append(row)\n",
    "    \n",
    "    print(f'Lenth of data set was {len(data_set)}\\nLenth of filtered data set is {len(filtered_data_set)}\\n')\n",
    "    return filtered_data_set"
   ]
  },
  {
   "cell_type": "markdown",
   "metadata": {},
   "source": [
    "Let's check the function on our data sets and determine how many rows remain."
   ]
  },
  {
   "cell_type": "code",
   "execution_count": 12,
   "metadata": {},
   "outputs": [
    {
     "name": "stdout",
     "output_type": "stream",
     "text": [
      "Lenth of data set was 7195\n",
      "Lenth of filtered data set is 6181\n",
      "\n",
      "Lenth of data set was 9659\n",
      "Lenth of filtered data set is 9614\n",
      "\n",
      "[['284882215', 'Facebook', '389879808', 'USD', '0.0', '2974676', '212', '3.5', '3.5', '95.0', '4+', 'Social Networking', '37', '1', '29', '1'], ['389801252', 'Instagram', '113954816', 'USD', '0.0', '2161558', '1289', '4.5', '4.0', '10.23', '12+', 'Photo & Video', '37', '0', '29', '1'], ['529479190', 'Clash of Clans', '116476928', 'USD', '0.0', '2130805', '579', '4.5', '4.5', '9.24.12', '9+', 'Games', '38', '5', '18', '1'], ['420009108', 'Temple Run', '65921024', 'USD', '0.0', '1724546', '3842', '4.5', '4.0', '1.6.2', '9+', 'Games', '40', '5', '1', '1'], ['284035177', 'Pandora - Music & Radio', '130242560', 'USD', '0.0', '1126879', '3594', '4.0', '4.5', '8.4.1', '12+', 'Music', '37', '4', '1', '1']]\n",
      "[['Photo Editor & Candy Camera & Grid & ScrapBook', 'ART_AND_DESIGN', '4.1', '159', '19M', '10,000+', 'Free', '0', 'Everyone', 'Art & Design', 'January 7, 2018', '1.0.0', '4.0.3 and up'], ['U Launcher Lite – FREE Live Cool Themes, Hide Apps', 'ART_AND_DESIGN', '4.7', '87510', '8.7M', '5,000,000+', 'Free', '0', 'Everyone', 'Art & Design', 'August 1, 2018', '1.2.4', '4.0.3 and up'], ['Sketch - Draw & Paint', 'ART_AND_DESIGN', '4.5', '215644', '25M', '50,000,000+', 'Free', '0', 'Teen', 'Art & Design', 'June 8, 2018', 'Varies with device', '4.2 and up'], ['Pixel Draw - Number Art Coloring Book', 'ART_AND_DESIGN', '4.3', '967', '2.8M', '100,000+', 'Free', '0', 'Everyone', 'Art & Design;Creativity', 'June 20, 2018', '1.1', '4.4 and up'], ['Paper flowers instructions', 'ART_AND_DESIGN', '4.4', '167', '5.6M', '50,000+', 'Free', '0', 'Everyone', 'Art & Design', 'March 26, 2017', '1.0', '2.3 and up']]\n"
     ]
    }
   ],
   "source": [
    "apple_apps = filter_english(apple_apps, 1)\n",
    "google_apps = filter_english(google_apps, 0)\n",
    "print(apple_apps[:5])\n",
    "print(google_apps[:5])"
   ]
  },
  {
   "cell_type": "markdown",
   "metadata": {},
   "source": [
    "Last step for our data cleaning process will be `removing non-free apps`.\n",
    "For that **filter_free** function."
   ]
  },
  {
   "cell_type": "code",
   "execution_count": 13,
   "metadata": {},
   "outputs": [],
   "source": [
    "def filter_free(data_set, price_index):\n",
    "    filtered_data_set = []\n",
    "    f = []\n",
    "    for row in data_set:\n",
    "        if row[price_index] == '0' or (row[price_index] == '0.0') or (row[price_index] == '0.00'):\n",
    "            filtered_data_set.append(row)\n",
    "            \n",
    "    print(f'Lenth of filtered data set is {len(filtered_data_set)}\\n')\n",
    "    return filtered_data_set"
   ]
  },
  {
   "cell_type": "code",
   "execution_count": 14,
   "metadata": {
    "scrolled": true
   },
   "outputs": [
    {
     "name": "stdout",
     "output_type": "stream",
     "text": [
      "Lenth of filtered data set is 3220\n",
      "\n",
      "Lenth of filtered data set is 8864\n",
      "\n"
     ]
    }
   ],
   "source": [
    "apple_apps = filter_free(apple_apps, 4)\n",
    "google_apps = filter_free(google_apps, 7)"
   ]
  },
  {
   "cell_type": "markdown",
   "metadata": {},
   "source": [
    "We now have a total of 12 084 entries of data, which is enougth for our analysis.\n",
    "\n",
    "# Research strategy\n",
    "\n",
    "As we mentioned before, our `main goal is to find the most popular kinds of apps`, in other words which are likely to attract more users.\n",
    "\n",
    "Considering that creating an application for both platforms is long and resource-intensive process, we will act on the basis of the following steps:\n",
    "\n",
    "* build a minimal Android version of the app, and add it to Google Play\n",
    "* if the app has a good response from users, we develop it further\n",
    "* if the app is profitable after six months, we build an iOS version of the app and add it to the App Store\n",
    "\n",
    "So for now we just need to generally measure the apps' popularity."
   ]
  },
  {
   "cell_type": "markdown",
   "metadata": {},
   "source": [
    "# Most Common Apps by Genre\n",
    "\n",
    "Let's begin our analysis with determination of genres that are of interest to  both markets.\n",
    "As we could see, Google Play Store has two suitable columns: `Category` and `Genres`, and Apple Store has `prime_genre`.\n",
    "\n",
    "So, we need to build two functions:\n",
    "* one, **freq_table**, for generating frequency table with percantages for category and its amount of users accordingly.\n",
    "* and second one, **display_freq_table**, for more clarity with our data for sorting it in descending order."
   ]
  },
  {
   "cell_type": "code",
   "execution_count": 15,
   "metadata": {},
   "outputs": [],
   "source": [
    "def freq_table(data_set, genre_index):\n",
    "    freq_table = {}\n",
    "    for row in data_set:\n",
    "        if row[genre_index] not in freq_table:\n",
    "            freq_table[row[genre_index]] = 1\n",
    "        else:\n",
    "            freq_table[row[genre_index]] += 1\n",
    "            \n",
    "    for key in freq_table:\n",
    "        freq_table[key] = (freq_table[key] / len(data_set)) * 100\n",
    "    \n",
    "    print(f'Amount of categories: {len(data_set)}\\nAmount of unique categories: {len(freq_table)}\\n')\n",
    "    return freq_table\n",
    "    \n",
    "def display_freq_table(data_set, genre_index):\n",
    "    table = freq_table(data_set, genre_index)\n",
    "    display_freq_table = []\n",
    "    for key in table:\n",
    "        display_freq_table.append((table[key], key))\n",
    "        \n",
    "    display_freq_table = sorted(display_freq_table, reverse = True)\n",
    "    print(f'Category : percantage of users\\n')\n",
    "    for entry in display_freq_table:\n",
    "        print(f'{entry[1]} : {round(entry[0], 2)}')\n",
    "    return display_freq_table"
   ]
  },
  {
   "cell_type": "markdown",
   "metadata": {},
   "source": [
    "Let's examine `Google Play Store` main genre - `Category` column."
   ]
  },
  {
   "cell_type": "code",
   "execution_count": 16,
   "metadata": {
    "scrolled": true
   },
   "outputs": [
    {
     "name": "stdout",
     "output_type": "stream",
     "text": [
      "Amount of categories: 8864\n",
      "Amount of unique categories: 33\n",
      "\n",
      "Category : percantage of users\n",
      "\n",
      "FAMILY : 18.91\n",
      "GAME : 9.72\n",
      "TOOLS : 8.46\n",
      "BUSINESS : 4.59\n",
      "LIFESTYLE : 3.9\n",
      "PRODUCTIVITY : 3.89\n",
      "FINANCE : 3.7\n",
      "MEDICAL : 3.53\n",
      "SPORTS : 3.4\n",
      "PERSONALIZATION : 3.32\n",
      "COMMUNICATION : 3.24\n",
      "HEALTH_AND_FITNESS : 3.08\n",
      "PHOTOGRAPHY : 2.94\n",
      "NEWS_AND_MAGAZINES : 2.8\n",
      "SOCIAL : 2.66\n",
      "TRAVEL_AND_LOCAL : 2.34\n",
      "SHOPPING : 2.25\n",
      "BOOKS_AND_REFERENCE : 2.14\n",
      "DATING : 1.86\n",
      "VIDEO_PLAYERS : 1.79\n",
      "MAPS_AND_NAVIGATION : 1.4\n",
      "FOOD_AND_DRINK : 1.24\n",
      "EDUCATION : 1.16\n",
      "ENTERTAINMENT : 0.96\n",
      "LIBRARIES_AND_DEMO : 0.94\n",
      "AUTO_AND_VEHICLES : 0.93\n",
      "HOUSE_AND_HOME : 0.82\n",
      "WEATHER : 0.8\n",
      "EVENTS : 0.71\n",
      "PARENTING : 0.65\n",
      "ART_AND_DESIGN : 0.64\n",
      "COMICS : 0.62\n",
      "BEAUTY : 0.6\n"
     ]
    }
   ],
   "source": [
    "google_genres_major = display_freq_table(google_apps, 1)"
   ]
  },
  {
   "cell_type": "markdown",
   "metadata": {},
   "source": [
    "As we could see above, the most popular genre is `FAMILY` with 18.91 %.\n",
    "On second place with twice less amount of apps is `GAME` (9.72 %) and near goes `TOOLS` (8.46 %)."
   ]
  },
  {
   "cell_type": "code",
   "execution_count": 17,
   "metadata": {},
   "outputs": [
    {
     "name": "stdout",
     "output_type": "stream",
     "text": [
      "Amount of categories: 8864\n",
      "Amount of unique categories: 114\n",
      "\n",
      "Category : percantage of users\n",
      "\n",
      "Tools : 8.45\n",
      "Entertainment : 6.07\n",
      "Education : 5.35\n",
      "Business : 4.59\n",
      "Productivity : 3.89\n",
      "Lifestyle : 3.89\n",
      "Finance : 3.7\n",
      "Medical : 3.53\n",
      "Sports : 3.46\n",
      "Personalization : 3.32\n",
      "Communication : 3.24\n",
      "Action : 3.1\n",
      "Health & Fitness : 3.08\n",
      "Photography : 2.94\n",
      "News & Magazines : 2.8\n",
      "Social : 2.66\n",
      "Travel & Local : 2.32\n",
      "Shopping : 2.25\n",
      "Books & Reference : 2.14\n",
      "Simulation : 2.04\n",
      "Dating : 1.86\n",
      "Arcade : 1.85\n",
      "Video Players & Editors : 1.77\n",
      "Casual : 1.76\n",
      "Maps & Navigation : 1.4\n",
      "Food & Drink : 1.24\n",
      "Puzzle : 1.13\n",
      "Racing : 0.99\n",
      "Role Playing : 0.94\n",
      "Libraries & Demo : 0.94\n",
      "Auto & Vehicles : 0.93\n",
      "Strategy : 0.91\n",
      "House & Home : 0.82\n",
      "Weather : 0.8\n",
      "Events : 0.71\n",
      "Adventure : 0.68\n",
      "Comics : 0.61\n",
      "Beauty : 0.6\n",
      "Art & Design : 0.6\n",
      "Parenting : 0.5\n",
      "Card : 0.45\n",
      "Casino : 0.43\n",
      "Trivia : 0.42\n",
      "Educational;Education : 0.39\n",
      "Board : 0.38\n",
      "Educational : 0.37\n",
      "Education;Education : 0.34\n",
      "Word : 0.26\n",
      "Casual;Pretend Play : 0.24\n",
      "Music : 0.2\n",
      "Racing;Action & Adventure : 0.17\n",
      "Puzzle;Brain Games : 0.17\n",
      "Entertainment;Music & Video : 0.17\n",
      "Casual;Brain Games : 0.14\n",
      "Casual;Action & Adventure : 0.14\n",
      "Arcade;Action & Adventure : 0.12\n",
      "Action;Action & Adventure : 0.1\n",
      "Educational;Pretend Play : 0.09\n",
      "Simulation;Action & Adventure : 0.08\n",
      "Parenting;Education : 0.08\n",
      "Entertainment;Brain Games : 0.08\n",
      "Board;Brain Games : 0.08\n",
      "Parenting;Music & Video : 0.07\n",
      "Educational;Brain Games : 0.07\n",
      "Casual;Creativity : 0.07\n",
      "Art & Design;Creativity : 0.07\n",
      "Education;Pretend Play : 0.06\n",
      "Role Playing;Pretend Play : 0.05\n",
      "Education;Creativity : 0.05\n",
      "Role Playing;Action & Adventure : 0.03\n",
      "Puzzle;Action & Adventure : 0.03\n",
      "Entertainment;Creativity : 0.03\n",
      "Entertainment;Action & Adventure : 0.03\n",
      "Educational;Creativity : 0.03\n",
      "Educational;Action & Adventure : 0.03\n",
      "Education;Music & Video : 0.03\n",
      "Education;Brain Games : 0.03\n",
      "Education;Action & Adventure : 0.03\n",
      "Adventure;Action & Adventure : 0.03\n",
      "Video Players & Editors;Music & Video : 0.02\n",
      "Sports;Action & Adventure : 0.02\n",
      "Simulation;Pretend Play : 0.02\n",
      "Puzzle;Creativity : 0.02\n",
      "Music;Music & Video : 0.02\n",
      "Entertainment;Pretend Play : 0.02\n",
      "Casual;Education : 0.02\n",
      "Board;Action & Adventure : 0.02\n",
      "Video Players & Editors;Creativity : 0.01\n",
      "Trivia;Education : 0.01\n",
      "Travel & Local;Action & Adventure : 0.01\n",
      "Tools;Education : 0.01\n",
      "Strategy;Education : 0.01\n",
      "Strategy;Creativity : 0.01\n",
      "Strategy;Action & Adventure : 0.01\n",
      "Simulation;Education : 0.01\n",
      "Role Playing;Brain Games : 0.01\n",
      "Racing;Pretend Play : 0.01\n",
      "Puzzle;Education : 0.01\n",
      "Parenting;Brain Games : 0.01\n",
      "Music & Audio;Music & Video : 0.01\n",
      "Lifestyle;Pretend Play : 0.01\n",
      "Lifestyle;Education : 0.01\n",
      "Health & Fitness;Education : 0.01\n",
      "Health & Fitness;Action & Adventure : 0.01\n",
      "Entertainment;Education : 0.01\n",
      "Communication;Creativity : 0.01\n",
      "Comics;Creativity : 0.01\n",
      "Casual;Music & Video : 0.01\n",
      "Card;Action & Adventure : 0.01\n",
      "Books & Reference;Education : 0.01\n",
      "Art & Design;Pretend Play : 0.01\n",
      "Art & Design;Action & Adventure : 0.01\n",
      "Arcade;Pretend Play : 0.01\n",
      "Adventure;Education : 0.01\n"
     ]
    }
   ],
   "source": [
    "google_genres_minor = display_freq_table(google_apps, 9)"
   ]
  },
  {
   "cell_type": "markdown",
   "metadata": {},
   "source": [
    "Here we deduce that popular minor genre is `Tools` (8.45 %), and let's keep in mind `Entertainment` (6.07 %).\n",
    "For now is seems Google Store free English apps are made more for practical purposes than for entertainment. However, if we will look for `Family` category in store, we'll see that it mostly consist of kids' games."
   ]
  },
  {
   "cell_type": "code",
   "execution_count": 18,
   "metadata": {
    "scrolled": true
   },
   "outputs": [
    {
     "name": "stdout",
     "output_type": "stream",
     "text": [
      "Amount of categories: 3220\n",
      "Amount of unique categories: 23\n",
      "\n",
      "Category : percantage of users\n",
      "\n",
      "Games : 58.14\n",
      "Entertainment : 7.89\n",
      "Photo & Video : 4.97\n",
      "Education : 3.66\n",
      "Social Networking : 3.29\n",
      "Shopping : 2.61\n",
      "Utilities : 2.52\n",
      "Sports : 2.14\n",
      "Music : 2.05\n",
      "Health & Fitness : 2.02\n",
      "Productivity : 1.74\n",
      "Lifestyle : 1.58\n",
      "News : 1.34\n",
      "Travel : 1.24\n",
      "Finance : 1.12\n",
      "Weather : 0.87\n",
      "Food & Drink : 0.81\n",
      "Reference : 0.56\n",
      "Business : 0.53\n",
      "Book : 0.43\n",
      "Navigation : 0.19\n",
      "Medical : 0.19\n",
      "Catalogs : 0.12\n"
     ]
    }
   ],
   "source": [
    "apple_genres = display_freq_table(apple_apps, 11)"
   ]
  },
  {
   "cell_type": "markdown",
   "metadata": {},
   "source": [
    "In Apple Store applications data set most common genre is `Games`, it has overwhelming majority with 58.14 % of all applications. Also we can highlight `Entertainment` with 7.89 %.\n",
    "Overall impression is that most of applications focused on entertainment.\n",
    "\n",
    "In total for now, we cannot say that building, for instance, another one game application is good idea - we need to look at the audience size of entertainment apps first."
   ]
  },
  {
   "cell_type": "markdown",
   "metadata": {},
   "source": [
    "# Apple Store genre with most users\n",
    "\n",
    "Continuing our analisys of apps with finding genres that are the most popular among users.\n",
    "\n",
    "Starting with `Apple Store`, since it doesn't have `installs` column, as Google Play Store has, let's take `rating_count_tot` instead.\n",
    "To find average rating count (average amount of users per app) for each genre we need:\n",
    "* isolate the apps of each genre\n",
    "* add up the user ratings for the apps of each genre\n",
    "* divide the sum by the number of each genre's apps\n",
    "\n",
    "Let's create a function **avg_count_by_genre** (which will also sort output by users' amount for each category) and use it on Apple Store data set."
   ]
  },
  {
   "cell_type": "code",
   "execution_count": 19,
   "metadata": {},
   "outputs": [],
   "source": [
    "def avg_count_by_genre(data_set, genre_index, rating_count_index):\n",
    "    unique_genres = {}\n",
    "    for entry in data_set:\n",
    "        genre = entry[genre_index]\n",
    "        if genre in unique_genres:\n",
    "            prev_sum, prev_count = unique_genres[genre]\n",
    "            unique_genres[genre] = (prev_sum + int(entry[rating_count_index]), prev_count + 1)\n",
    "        else:\n",
    "            unique_genres[genre] = (int(entry[rating_count_index]), 1)\n",
    "    \n",
    "    genres_by_users = {}\n",
    "    for genre in unique_genres:\n",
    "        average_ratings_count = unique_genres[genre][0] / unique_genres[genre][1]\n",
    "        genres_by_users[genre] = average_ratings_count\n",
    "        \n",
    "    genres_by_users_tuples = sorted(genres_by_users.items(), key = lambda x: x[1], reverse = True)\n",
    "    genres_by_users_sorted = {k : v for k, v in genres_by_users_tuples}\n",
    "    \n",
    "    print(f'Category : average amount of users/installs\\n')\n",
    "    for entry in genres_by_users_sorted:\n",
    "        print(f'{entry} : {round(genres_by_users_sorted[entry], 2)}')\n",
    "    return genres_by_users_sorted"
   ]
  },
  {
   "cell_type": "code",
   "execution_count": 20,
   "metadata": {},
   "outputs": [
    {
     "name": "stdout",
     "output_type": "stream",
     "text": [
      "Category : average amount of users/installs\n",
      "\n",
      "Navigation : 86090.33\n",
      "Reference : 74942.11\n",
      "Social Networking : 71548.35\n",
      "Music : 57326.53\n",
      "Weather : 52279.89\n",
      "Book : 39758.5\n",
      "Food & Drink : 33333.92\n",
      "Finance : 31467.94\n",
      "Photo & Video : 28441.54\n",
      "Travel : 28243.8\n",
      "Shopping : 26919.69\n",
      "Health & Fitness : 23298.02\n",
      "Sports : 23008.9\n",
      "Games : 22812.92\n",
      "News : 21248.02\n",
      "Productivity : 21028.41\n",
      "Utilities : 18684.46\n",
      "Lifestyle : 16485.76\n",
      "Entertainment : 14029.83\n",
      "Business : 7491.12\n",
      "Education : 7003.98\n",
      "Catalogs : 4004.0\n",
      "Medical : 612.0\n"
     ]
    }
   ],
   "source": [
    "apple_popular_genre = avg_count_by_genre(apple_apps, 11, 5)"
   ]
  },
  {
   "cell_type": "markdown",
   "metadata": {},
   "source": [
    "We see here, that `Navigation` has the most number of users. Near goes `Reference` and `Social Networking`.\n",
    "Really interesting, that there not so many apps for these genres, - we could see it from our analisys above:\n",
    "\n",
    "Category : App's scope, in %\n",
    "\n",
    "Social Networking : 3.29  \n",
    "Reference : 0.56  \n",
    "Navigation : 0.19\n",
    "\n",
    "Amount of apps for Navigation and Reference is even less than 1 percent of the whole apps market.\n",
    "Here we can assume, that Apple Store needs more of these 3 kinds of apps.\n",
    "But first it is better to look at the apps with the greatest scope of users."
   ]
  },
  {
   "cell_type": "code",
   "execution_count": 21,
   "metadata": {},
   "outputs": [
    {
     "name": "stdout",
     "output_type": "stream",
     "text": [
      "Navigation\n",
      "\n",
      "Name of application: its number of ratings\n",
      "\n",
      "Waze - GPS Navigation, Maps & Real-time Traffic : 345046\n",
      "Google Maps - Navigation & Transit : 154911\n",
      "Geocaching® : 12811\n",
      "CoPilot GPS – Car Navigation & Offline Maps : 3582\n",
      "ImmobilienScout24: Real Estate Search in Germany : 187\n",
      "Railway Route Search : 5\n"
     ]
    }
   ],
   "source": [
    "print('Navigation\\n')\n",
    "print(f'Name of application: its number of ratings\\n')\n",
    "for entry in apple_apps:\n",
    "    if entry[11] == 'Navigation':\n",
    "        print(f'{entry[1]} : {entry[5]}')"
   ]
  },
  {
   "cell_type": "markdown",
   "metadata": {},
   "source": [
    "The picture with `Navigation` apps looks unrepresentative - `Waze` and `Google Maps` took the most of ratings. It cannot be reccommend to built navigation app - this will take a lot of effort and competition in this niche will be high."
   ]
  },
  {
   "cell_type": "code",
   "execution_count": 22,
   "metadata": {
    "scrolled": true
   },
   "outputs": [
    {
     "name": "stdout",
     "output_type": "stream",
     "text": [
      "Reference\n",
      "\n",
      "Name of application: its number of ratings\n",
      "\n",
      "Bible : 985920\n",
      "Dictionary.com Dictionary & Thesaurus : 200047\n",
      "Dictionary.com Dictionary & Thesaurus for iPad : 54175\n",
      "Google Translate : 26786\n",
      "Muslim Pro: Ramadan 2017 Prayer Times, Azan, Quran : 18418\n",
      "New Furniture Mods - Pocket Wiki & Game Tools for Minecraft PC Edition : 17588\n",
      "Merriam-Webster Dictionary : 16849\n",
      "Night Sky : 12122\n",
      "City Maps for Minecraft PE - The Best Maps for Minecraft Pocket Edition (MCPE) : 8535\n",
      "LUCKY BLOCK MOD ™ for Minecraft PC Edition - The Best Pocket Wiki & Mods Installer Tools : 4693\n",
      "GUNS MODS for Minecraft PC Edition - Mods Tools : 1497\n",
      "Guides for Pokémon GO - Pokemon GO News and Cheats : 826\n",
      "WWDC : 762\n",
      "Horror Maps for Minecraft PE - Download The Scariest Maps for Minecraft Pocket Edition (MCPE) Free : 718\n",
      "VPN Express : 14\n",
      "Real Bike Traffic Rider Virtual Reality Glasses : 8\n",
      "教えて!goo : 0\n",
      "Jishokun-Japanese English Dictionary & Translator : 0\n"
     ]
    }
   ],
   "source": [
    "print('Reference\\n')\n",
    "print(f'Name of application: its number of ratings\\n')      \n",
    "for entry in apple_apps:\n",
    "    if entry[11] == 'Reference':\n",
    "        print(f'{entry[1]} : {entry[5]}')"
   ]
  },
  {
   "cell_type": "markdown",
   "metadata": {},
   "source": [
    "This category - `Reference`, - seems truly interesting.\n",
    "The Internet has existed not so long ago, not all dictionaries, reference books, various kinds of books are in the public domain, not to mention applications for interactive work with them."
   ]
  },
  {
   "cell_type": "code",
   "execution_count": 23,
   "metadata": {
    "scrolled": false
   },
   "outputs": [
    {
     "name": "stdout",
     "output_type": "stream",
     "text": [
      "Social Networking\n",
      "\n",
      "Name of application: its number of ratings\n",
      "\n",
      "Facebook : 2974676\n",
      "Pinterest : 1061624\n",
      "Skype for iPhone : 373519\n",
      "Messenger : 351466\n",
      "Tumblr : 334293\n",
      "WhatsApp Messenger : 287589\n",
      "Kik : 260965\n",
      "ooVoo – Free Video Call, Text and Voice : 177501\n",
      "TextNow - Unlimited Text + Calls : 164963\n",
      "Viber Messenger – Text & Call : 164249\n",
      "Followers - Social Analytics For Instagram : 112778\n",
      "MeetMe - Chat and Meet New People : 97072\n",
      "We Heart It - Fashion, wallpapers, quotes, tattoos : 90414\n",
      "InsTrack for Instagram - Analytics Plus More : 85535\n",
      "Tango - Free Video Call, Voice and Chat : 75412\n",
      "LinkedIn : 71856\n",
      "Match™ - #1 Dating App. : 60659\n",
      "Skype for iPad : 60163\n",
      "POF - Best Dating App for Conversations : 52642\n",
      "Timehop : 49510\n",
      "Find My Family, Friends & iPhone - Life360 Locator : 43877\n",
      "Whisper - Share, Express, Meet : 39819\n",
      "Hangouts : 36404\n",
      "LINE PLAY - Your Avatar World : 34677\n",
      "WeChat : 34584\n",
      "Badoo - Meet New People, Chat, Socialize. : 34428\n",
      "Followers + for Instagram - Follower Analytics : 28633\n",
      "GroupMe : 28260\n",
      "Marco Polo Video Walkie Talkie : 27662\n",
      "Miitomo : 23965\n",
      "SimSimi : 23530\n",
      "Grindr - Gay and same sex guys chat, meet and date : 23201\n",
      "Wishbone - Compare Anything : 20649\n",
      "imo video calls and chat : 18841\n",
      "After School - Funny Anonymous School News : 18482\n",
      "Quick Reposter - Repost, Regram and Reshare Photos : 17694\n",
      "Weibo HD : 16772\n",
      "Repost for Instagram : 15185\n",
      "Live.me – Live Video Chat & Make Friends Nearby : 14724\n",
      "Nextdoor : 14402\n",
      "Followers Analytics for Instagram - InstaReport : 13914\n",
      "YouNow: Live Stream Video Chat : 12079\n",
      "FollowMeter for Instagram - Followers Tracking : 11976\n",
      "LINE : 11437\n",
      "eHarmony™ Dating App - Meet Singles : 11124\n",
      "Discord - Chat for Gamers : 9152\n",
      "QQ : 9109\n",
      "Telegram Messenger : 7573\n",
      "Weibo : 7265\n",
      "Periscope - Live Video Streaming Around the World : 6062\n",
      "Chat for Whatsapp - iPad Version : 5060\n",
      "QQ HD : 5058\n",
      "Followers Analysis Tool For Instagram App Free : 4253\n",
      "live.ly - live video streaming : 4145\n",
      "Houseparty - Group Video Chat : 3991\n",
      "SOMA Messenger : 3232\n",
      "Monkey : 3060\n",
      "Down To Lunch : 2535\n",
      "Flinch - Video Chat Staring Contest : 2134\n",
      "Highrise - Your Avatar Community : 2011\n",
      "LOVOO - Dating Chat : 1985\n",
      "PlayStation®Messages : 1918\n",
      "BOO! - Video chat camera with filters & stickers : 1805\n",
      "Qzone : 1649\n",
      "Chatous - Chat with new people : 1609\n",
      "Kiwi - Q&A : 1538\n",
      "GhostCodes - a discovery app for Snapchat : 1313\n",
      "Jodel : 1193\n",
      "FireChat : 1037\n",
      "Google Duo - simple video calling : 1033\n",
      "Fiesta by Tango - Chat & Meet New People : 885\n",
      "Google Allo — smart messaging : 862\n",
      "Peach — share vividly : 727\n",
      "Hey! VINA - Where Women Meet New Friends : 719\n",
      "Battlefield™ Companion : 689\n",
      "All Devices for WhatsApp - Messenger for iPad : 682\n",
      "Chat for Pokemon Go - GoChat : 500\n",
      "IAmNaughty – Dating App to Meet New People Online : 463\n",
      "Qzone HD : 458\n",
      "Zenly - Locate your friends in realtime : 427\n",
      "League of Legends Friends : 420\n",
      "豆瓣 : 407\n",
      "Candid - Speak Your Mind Freely : 398\n",
      "知乎 : 397\n",
      "Selfeo : 366\n",
      "Fake-A-Location Free ™ : 354\n",
      "Popcorn Buzz - Free Group Calls : 281\n",
      "Fam — Group video calling for iMessage : 279\n",
      "QQ International : 274\n",
      "Ameba : 269\n",
      "SoundCloud Pulse: for creators : 240\n",
      "Tantan : 235\n",
      "Cougar Dating & Life Style App for Mature Women : 213\n",
      "Rawr Messenger - Dab your chat : 180\n",
      "WhenToPost: Best Time to Post Photos for Instagram : 158\n",
      "Inke—Broadcast an amazing life : 147\n",
      "Mustknow - anonymous video Q&A : 53\n",
      "CTFxCmoji : 39\n",
      "Lobi : 36\n",
      "Chain: Collaborate On MyVideo Story/Group Video : 35\n",
      "botman - Real time video chat : 7\n",
      "BestieBox : 0\n",
      "MATCH ON LINE chat : 0\n",
      "niconico ch : 0\n",
      "LINE BLOG : 0\n",
      "bit-tube - Live Stream Video Chat : 0\n"
     ]
    }
   ],
   "source": [
    "print('Social Networking\\n')\n",
    "print(f'Name of application: its number of ratings\\n')\n",
    "for entry in apple_apps:\n",
    "    if entry[11] == 'Social Networking':\n",
    "        print(f'{entry[1]} : {entry[5]}')"
   ]
  },
  {
   "cell_type": "markdown",
   "metadata": {},
   "source": [
    "A similar picture was assumed in `Social Networking`, that is why we analysed this category in the second place.\n",
    "Several giants are located in the first places, such as `Facebook`, `Pinterest`, `Skype for iPhone`.\n",
    "It is not an easy job to create something like these social media. Furthermore, not every social application becomes super popular, along with navigation apps. Apps of these genres, that have a lot of users, are already tested over the years, and more importantly - have a huge auditory, which is must-have for social networking, and works for maps' developing too."
   ]
  },
  {
   "cell_type": "markdown",
   "metadata": {},
   "source": [
    "Nex popular app genre is `Music`."
   ]
  },
  {
   "cell_type": "code",
   "execution_count": 24,
   "metadata": {
    "scrolled": true
   },
   "outputs": [
    {
     "name": "stdout",
     "output_type": "stream",
     "text": [
      "Music\n",
      "\n",
      "Name of application: its number of ratings\n",
      "\n",
      "Pandora - Music & Radio : 1126879\n",
      "Spotify Music : 878563\n",
      "Shazam - Discover music, artists, videos & lyrics : 402925\n",
      "iHeartRadio – Free Music & Radio Stations : 293228\n",
      "SoundCloud - Music & Audio : 135744\n",
      "Magic Piano by Smule : 131695\n",
      "Smule Sing! : 119316\n",
      "TuneIn Radio - MLB NBA Audiobooks Podcasts Music : 110420\n",
      "Amazon Music : 106235\n",
      "SoundHound Song Search & Music Player : 82602\n",
      "Sonos Controller : 48905\n",
      "Bandsintown Concerts : 30845\n",
      "Karaoke - Sing Karaoke, Unlimited Songs! : 28606\n",
      "My Mixtapez Music : 26286\n",
      "Sing Karaoke Songs Unlimited with StarMaker : 26227\n",
      "Ringtones for iPhone & Ringtone Maker : 25403\n",
      "Musi - Unlimited Music For YouTube : 25193\n",
      "AutoRap by Smule : 18202\n",
      "Spinrilla - Mixtapes For Free : 15053\n",
      "Napster - Top Music & Radio : 14268\n",
      "edjing Mix:DJ turntable to remix and scratch music : 13580\n",
      "Free Music - MP3 Streamer & Playlist Manager Pro : 13443\n",
      "Free Piano app by Yokee : 13016\n",
      "Google Play Music : 10118\n",
      "Certified Mixtapes - Hip Hop Albums & Mixtapes : 9975\n",
      "TIDAL : 7398\n",
      "YouTube Music : 7109\n",
      "Nicki Minaj: The Empire : 5196\n",
      "Sounds app - Music And Friends : 5126\n",
      "SongFlip - Free Music Streamer : 5004\n",
      "Simple Radio - Live AM & FM Radio Stations : 4787\n",
      "Deezer - Listen to your Favorite Music & Playlists : 4677\n",
      "Ringtones for iPhone with Ringtone Maker : 4013\n",
      "Bose SoundTouch : 3687\n",
      "Amazon Alexa : 3018\n",
      "DatPiff : 2815\n",
      "Trebel Music - Unlimited Music Downloader : 2570\n",
      "Free Music Play - Mp3 Streamer & Player : 2496\n",
      "Acapella from PicPlayPost : 2487\n",
      "Coach Guitar - Lessons & Easy Tabs For Beginners : 2416\n",
      "Musicloud - MP3 and FLAC Music Player for Cloud Platforms. : 2211\n",
      "Piano - Play Keyboard Music Games with Magic Tiles : 1636\n",
      "Boom: Best Equalizer & Magical Surround Sound : 1375\n",
      "Music Freedom - Unlimited Free MP3 Music Streaming : 1246\n",
      "AmpMe - A Portable Social Party Music Speaker : 1047\n",
      "Medly - Music Maker : 933\n",
      "Bose Connect : 915\n",
      "Music Memos : 909\n",
      "UE BOOM : 612\n",
      "LiveMixtapes : 555\n",
      "NOISE : 355\n",
      "MP3 Music Player & Streamer for Clouds : 329\n",
      "Musical Video Maker - Create Music clips lip sync : 320\n",
      "Cloud Music Player - Downloader & Playlist Manager : 319\n",
      "Remixlive - Remix loops with pads : 288\n",
      "QQ音乐HD : 224\n",
      "Blocs Wave - Make & Record Music : 158\n",
      "PlayGround • Music At Your Fingertips : 150\n",
      "Music and Chill : 135\n",
      "The Singing Machine Mobile Karaoke App : 130\n",
      "radio.de - Der Radioplayer : 64\n",
      "Free Music -  Player & Streamer  for Dropbox, OneDrive & Google Drive : 46\n",
      "NRJ Radio : 38\n",
      "Smart Music: Streaming Videos and Radio : 17\n",
      "BOSS Tuner : 13\n",
      "PetitLyrics : 0\n"
     ]
    }
   ],
   "source": [
    "print('Music\\n')\n",
    "print(f'Name of application: its number of ratings\\n')      \n",
    "for entry in apple_apps:\n",
    "    if entry[11] == 'Music':\n",
    "        print(f'{entry[1]} : {entry[5]}')"
   ]
  },
  {
   "cell_type": "markdown",
   "metadata": {},
   "source": [
    "The Music category is similar to Social Networking and Navigation - there are a few huge apps. This genre doesn't seem to have big potential for newly-created app."
   ]
  },
  {
   "cell_type": "code",
   "execution_count": 25,
   "metadata": {},
   "outputs": [
    {
     "name": "stdout",
     "output_type": "stream",
     "text": [
      "Weather\n",
      "\n",
      "Name of application: its number of ratings\n",
      "\n",
      "The Weather Channel: Forecast, Radar & Alerts : 495626\n",
      "The Weather Channel App for iPad – best local forecast, radar map, and storm tracking : 208648\n",
      "WeatherBug - Local Weather, Radar, Maps, Alerts : 188583\n",
      "MyRadar NOAA Weather Radar Forecast : 150158\n",
      "AccuWeather - Weather for Life : 144214\n",
      "Yahoo Weather : 112603\n",
      "Weather Underground: Custom Forecast & Local Radar : 49192\n",
      "NOAA Weather Radar - Weather Forecast & HD Radar : 45696\n",
      "Weather Live Free - Weather Forecast & Alerts : 35702\n",
      "Storm Radar : 22792\n",
      "QuakeFeed Earthquake Map, Alerts, and News : 6081\n",
      "Moji Weather - Free Weather Forecast : 2333\n",
      "Hurricane by American Red Cross : 1158\n",
      "Forecast Bar : 375\n",
      "Hurricane Tracker WESH 2 Orlando, Central Florida : 203\n",
      "FEMA : 128\n",
      "iWeather - World weather forecast : 80\n",
      "Weather - Radar - Storm with Morecast App : 78\n",
      "Yurekuru Call : 53\n",
      "Weather & Radar : 37\n",
      "WRAL Weather Alert : 25\n",
      "Météo-France : 24\n",
      "JaxReady : 22\n",
      "Freddy the Frogcaster's Weather Station : 14\n",
      "Almanac Long-Range Weather Forecast : 12\n",
      "TodayAir : 0\n",
      "wetter.com : 0\n",
      "WarnWetter : 0\n"
     ]
    }
   ],
   "source": [
    "print('Weather\\n')\n",
    "print(f'Name of application: its number of ratings\\n')      \n",
    "for entry in apple_apps:\n",
    "    if entry[11] == 'Weather':\n",
    "        print(f'{entry[1]} : {entry[5]}')"
   ]
  },
  {
   "cell_type": "markdown",
   "metadata": {},
   "source": [
    "From the names of the applications above, their categorization becomes clear - there are applications about the weather in general, and there are those specializing in certain weather conditions.\n",
    "\n",
    "It's safe to assume that users don't spend much time on the weather app; but, most likely, they do it regularly if the application has already been downloaded - after all, in order to find out the air temperature once a month, you can use the browser.\n",
    "At first glance, I want to analyze this niche further, but still, the \"Reference\" category seems more promising, and perhaps it is worth spending more effort on it.\n",
    "In addition, the next popular category is `Books`, which also correlates with the category `Reference`.\n",
    "\n",
    "The rest of applications have less than 50,000 reviews on average, let's leave them for now.\n",
    "\n",
    "# Google Play genre with most users\n",
    "\n",
    "Let's move on to the analysis of Google applications - everything is a little simpler here, since there is `Installs` column.\n",
    "For displaying installs we can use **display_freq_table** function."
   ]
  },
  {
   "cell_type": "code",
   "execution_count": 26,
   "metadata": {
    "scrolled": true
   },
   "outputs": [
    {
     "name": "stdout",
     "output_type": "stream",
     "text": [
      "Amount of categories: 8864\n",
      "Amount of unique categories: 21\n",
      "\n",
      "Category : percantage of users\n",
      "\n",
      "1,000,000+ : 15.73\n",
      "100,000+ : 11.55\n",
      "10,000,000+ : 10.55\n",
      "10,000+ : 10.2\n",
      "1,000+ : 8.39\n",
      "100+ : 6.92\n",
      "5,000,000+ : 6.83\n",
      "500,000+ : 5.56\n",
      "50,000+ : 4.77\n",
      "5,000+ : 4.51\n",
      "10+ : 3.54\n",
      "500+ : 3.25\n",
      "50,000,000+ : 2.3\n",
      "100,000,000+ : 2.13\n",
      "50+ : 1.92\n",
      "5+ : 0.79\n",
      "1+ : 0.51\n",
      "500,000,000+ : 0.27\n",
      "1,000,000,000+ : 0.23\n",
      "0+ : 0.05\n",
      "0 : 0.01\n"
     ]
    }
   ],
   "source": [
    "google_installs = display_freq_table(google_apps, 5)"
   ]
  },
  {
   "cell_type": "markdown",
   "metadata": {},
   "source": [
    "We could see here several categories instead of just precise number of installs for each app.  \n",
    "When calculating the average number of installs for each genre, the result can be blurry, - but we have no choice and let's try it anyway and see what we will get.  \n",
    "At first we need to remove unwanted characters from string with `Installs`."
   ]
  },
  {
   "cell_type": "code",
   "execution_count": 27,
   "metadata": {},
   "outputs": [
    {
     "name": "stdout",
     "output_type": "stream",
     "text": [
      "['Photo Editor & Candy Camera & Grid & ScrapBook', 'ART_AND_DESIGN', '4.1', '159', '19M', 10000.0, 'Free', '0', 'Everyone', 'Art & Design', 'January 7, 2018', '1.0.0', '4.0.3 and up']\n",
      "['U Launcher Lite – FREE Live Cool Themes, Hide Apps', 'ART_AND_DESIGN', '4.7', '87510', '8.7M', 5000000.0, 'Free', '0', 'Everyone', 'Art & Design', 'August 1, 2018', '1.2.4', '4.0.3 and up']\n",
      "['Sketch - Draw & Paint', 'ART_AND_DESIGN', '4.5', '215644', '25M', 50000000.0, 'Free', '0', 'Teen', 'Art & Design', 'June 8, 2018', 'Varies with device', '4.2 and up']\n",
      "['Pixel Draw - Number Art Coloring Book', 'ART_AND_DESIGN', '4.3', '967', '2.8M', 100000.0, 'Free', '0', 'Everyone', 'Art & Design;Creativity', 'June 20, 2018', '1.1', '4.4 and up']\n",
      "['Paper flowers instructions', 'ART_AND_DESIGN', '4.4', '167', '5.6M', 50000.0, 'Free', '0', 'Everyone', 'Art & Design', 'March 26, 2017', '1.0', '2.3 and up']\n"
     ]
    }
   ],
   "source": [
    "for entry in google_apps:\n",
    "    entry[5] = float(entry[5].replace(',', '').replace('+', ''))\n",
    "\n",
    "for entry in google_apps[:5]:\n",
    "    print(entry)"
   ]
  },
  {
   "cell_type": "markdown",
   "metadata": {},
   "source": [
    "Everithing seems fine, floats are on six position (or position with index 5).\n",
    "Now we can use the function **avg_count_by_genre** again on Google data set, since installs are now a float and we could sum them up and find average for each genre."
   ]
  },
  {
   "cell_type": "code",
   "execution_count": 28,
   "metadata": {
    "scrolled": false
   },
   "outputs": [
    {
     "name": "stdout",
     "output_type": "stream",
     "text": [
      "Category : average amount of users/installs\n",
      "\n",
      "COMMUNICATION : 38456119.17\n",
      "VIDEO_PLAYERS : 24727872.45\n",
      "SOCIAL : 23253652.13\n",
      "PHOTOGRAPHY : 17840110.4\n",
      "PRODUCTIVITY : 16787331.34\n",
      "GAME : 15588015.6\n",
      "TRAVEL_AND_LOCAL : 13984077.71\n",
      "ENTERTAINMENT : 11640705.88\n",
      "TOOLS : 10801391.3\n",
      "NEWS_AND_MAGAZINES : 9549178.47\n",
      "BOOKS_AND_REFERENCE : 8767811.89\n",
      "SHOPPING : 7036877.31\n",
      "PERSONALIZATION : 5201482.61\n",
      "WEATHER : 5074486.2\n",
      "HEALTH_AND_FITNESS : 4188821.99\n",
      "MAPS_AND_NAVIGATION : 4056941.77\n",
      "FAMILY : 3695641.82\n",
      "SPORTS : 3638640.14\n",
      "ART_AND_DESIGN : 1986335.09\n",
      "FOOD_AND_DRINK : 1924897.74\n",
      "EDUCATION : 1833495.15\n",
      "BUSINESS : 1712290.15\n",
      "LIFESTYLE : 1437816.27\n",
      "FINANCE : 1387692.48\n",
      "HOUSE_AND_HOME : 1331540.56\n",
      "DATING : 854028.83\n",
      "COMICS : 817657.27\n",
      "AUTO_AND_VEHICLES : 647317.82\n",
      "LIBRARIES_AND_DEMO : 638503.73\n",
      "PARENTING : 542603.62\n",
      "BEAUTY : 513151.89\n",
      "EVENTS : 253542.22\n",
      "MEDICAL : 120550.62\n"
     ]
    }
   ],
   "source": [
    "google_popular_genre = avg_count_by_genre(google_apps, 1, 5)"
   ]
  },
  {
   "cell_type": "markdown",
   "metadata": {},
   "source": [
    "Let's take a closer look at the first few categories: `COMMUNICATION`, `VIDEO_PLAYERS`, `SOCIAL`, `PHOTOGRAPHY`, and we are taking only those apps, which number of installs more than 10 million."
   ]
  },
  {
   "cell_type": "code",
   "execution_count": 29,
   "metadata": {},
   "outputs": [
    {
     "name": "stdout",
     "output_type": "stream",
     "text": [
      "COMMUNICATION\n",
      "\n",
      "Name of application: its number of installs\n",
      "\n",
      "WhatsApp Messenger : 1000000000.0\n",
      "imo beta free calls and text : 100000000.0\n",
      "Contacts : 50000000.0\n",
      "Android Messages : 100000000.0\n",
      "Google Duo - High Quality Video Calls : 500000000.0\n",
      "Messenger – Text and Video Chat for Free : 1000000000.0\n",
      "imo free video calls and chat : 500000000.0\n",
      "free video calls and chat : 50000000.0\n",
      "Skype - free IM & video calls : 1000000000.0\n",
      "Who : 100000000.0\n",
      "GO SMS Pro - Messenger, Free Themes, Emoji : 100000000.0\n",
      "LINE: Free Calls & Messages : 500000000.0\n",
      "Google Chrome: Fast & Secure : 1000000000.0\n",
      "Firefox Browser fast & private : 100000000.0\n",
      "Dolphin Browser - Fast, Private & Adblock🐬 : 50000000.0\n",
      "UC Browser - Fast Download Private & Secure : 500000000.0\n",
      "Gmail : 1000000000.0\n",
      "Mail.Ru - Email App : 50000000.0\n",
      "Hangouts : 1000000000.0\n",
      "Azar : 50000000.0\n",
      "Messenger Lite: Free Calls & Messages : 100000000.0\n",
      "Kik : 100000000.0\n",
      "KakaoTalk: Free Calls & Text : 100000000.0\n",
      "Opera Mini - fast web browser : 100000000.0\n",
      "Opera Browser: Fast and Secure : 100000000.0\n",
      "Telegram : 100000000.0\n",
      "Truecaller: Caller ID, SMS spam blocking & Dialer : 100000000.0\n",
      "UC Browser Mini -Tiny Fast Private & Secure : 100000000.0\n",
      "Viber Messenger : 500000000.0\n",
      "WeChat : 100000000.0\n",
      "Yahoo Mail – Stay Organized : 100000000.0\n",
      "CM Browser - Ad Blocker , Fast Download , Privacy : 50000000.0\n",
      "Zalo – Video Call : 50000000.0\n",
      "BBM - Free Calls & Messages : 100000000.0\n"
     ]
    }
   ],
   "source": [
    "print('COMMUNICATION\\n')\n",
    "print(f'Name of application: its number of installs\\n')      \n",
    "for entry in google_apps:\n",
    "    if entry[1] == 'COMMUNICATION' and (entry[5] > 10000000):\n",
    "        print(f'{entry[0]} : {entry[5]}')"
   ]
  },
  {
   "cell_type": "markdown",
   "metadata": {},
   "source": [
    "At a quick glance, we again see a familiar picture: there are several large players in the market, and they account for the largest number of installations.  \n",
    "It is worth continuing the search."
   ]
  },
  {
   "cell_type": "code",
   "execution_count": 30,
   "metadata": {},
   "outputs": [
    {
     "name": "stdout",
     "output_type": "stream",
     "text": [
      "VIDEO_PLAYERS\n",
      "\n",
      "Name of application: its number of installs\n",
      "\n",
      "YouTube : 1000000000.0\n",
      "Motorola Gallery : 100000000.0\n",
      "VLC for Android : 100000000.0\n",
      "Vote for : 50000000.0\n",
      "Vigo Video : 50000000.0\n",
      "Google Play Movies & TV : 1000000000.0\n",
      "MiniMovie - Free Video and Slideshow Editor : 50000000.0\n",
      "Samsung Video Library : 50000000.0\n",
      "LIKE – Magic Video Maker & Community : 50000000.0\n",
      "MX Player : 500000000.0\n",
      "Dubsmash : 100000000.0\n",
      "DU Recorder – Screen Recorder, Video Editor, Live : 50000000.0\n",
      "KineMaster – Pro Video Editor : 50000000.0\n",
      "VMate : 50000000.0\n",
      "HD Video Downloader : 2018 Best video mate : 50000000.0\n",
      "VivaVideo - Video Editor & Photo Movie : 100000000.0\n",
      "VideoShow-Video Editor, Video Maker, Beauty Camera : 100000000.0\n",
      "Ringdroid : 50000000.0\n",
      "Motorola FM Radio : 100000000.0\n"
     ]
    }
   ],
   "source": [
    "print('VIDEO_PLAYERS\\n')\n",
    "print(f'Name of application: its number of installs\\n')      \n",
    "for entry in google_apps:\n",
    "    if entry[1] == 'VIDEO_PLAYERS' and (entry[5] > 10000000):\n",
    "        print(f'{entry[0]} : {entry[5]}')"
   ]
  },
  {
   "cell_type": "markdown",
   "metadata": {},
   "source": [
    "Looks like the most apps of this category involves storing large amount of data - this could be an expensive process.  \n",
    "But there are some popular apps suitable for our search - `video or slideshow editor`.\n",
    "But if we choose this genre we will need to understand how many such applications exist, as well as what their specific purpose is.  \n",
    "This is necessary in order to understand what this niche lacks - if the applications overlap in value, the user will rather choose a verified one than a recently created one, and, possibly, will not see our application at all in the search."
   ]
  },
  {
   "cell_type": "code",
   "execution_count": 31,
   "metadata": {
    "scrolled": false
   },
   "outputs": [
    {
     "name": "stdout",
     "output_type": "stream",
     "text": [
      "SOCIAL\n",
      "\n",
      "Name of application: its number of installs\n",
      "\n",
      "Facebook : 1000000000.0\n",
      "Facebook Lite : 500000000.0\n",
      "Tumblr : 100000000.0\n",
      "Pinterest : 100000000.0\n",
      "Google+ : 1000000000.0\n",
      "Badoo - Free Chat & Dating App : 100000000.0\n",
      "Tango - Live Video Broadcast : 100000000.0\n",
      "ooVoo Video Calls, Messaging & Stories : 50000000.0\n",
      "Instagram : 1000000000.0\n",
      "Snapchat : 500000000.0\n",
      "MeetMe: Chat & Meet New People : 50000000.0\n",
      "LinkedIn : 100000000.0\n",
      "Zello PTT Walkie Talkie : 50000000.0\n",
      "POF Free Dating App : 50000000.0\n",
      "SKOUT - Meet, Chat, Go Live : 50000000.0\n",
      "Tik Tok - including musical.ly : 100000000.0\n",
      "BIGO LIVE - Live Stream : 100000000.0\n",
      "VK : 100000000.0\n"
     ]
    }
   ],
   "source": [
    "print('SOCIAL\\n')\n",
    "print(f'Name of application: its number of installs\\n')      \n",
    "for entry in google_apps:\n",
    "    if entry[1] == 'SOCIAL' and (entry[5] > 10000000):\n",
    "        print(f'{entry[0]} : {entry[5]}')"
   ]
  },
  {
   "cell_type": "markdown",
   "metadata": {},
   "source": [
    "Genre, similar to \"COMMUNICATION\", no suggestions what we can add to this category."
   ]
  },
  {
   "cell_type": "code",
   "execution_count": 32,
   "metadata": {},
   "outputs": [
    {
     "name": "stdout",
     "output_type": "stream",
     "text": [
      "PHOTOGRAPHY\n",
      "\n",
      "Name of application: its number of installs\n",
      "\n",
      "Motorola Camera : 50000000.0\n",
      "B612 - Beauty & Filter Camera : 100000000.0\n",
      "InstaBeauty -Makeup Selfie Cam : 50000000.0\n",
      "Selfie Camera - Photo Editor & Filter & Sticker : 50000000.0\n",
      "YouCam Makeup - Magic Selfie Makeovers : 100000000.0\n",
      "ASUS Gallery : 50000000.0\n",
      "Sweet Selfie - selfie camera, beauty cam, photo edit : 100000000.0\n",
      "Google Photos : 1000000000.0\n",
      "Square InPic - Photo Editor & Collage Maker : 50000000.0\n",
      "Retrica : 100000000.0\n",
      "VSCO : 50000000.0\n",
      "PhotoWonder: Pro Beauty Photo Editor Collage Maker : 50000000.0\n",
      "Photo Effects Pro : 50000000.0\n",
      "Photo Editor Selfie Camera Filter & Mirror Image : 50000000.0\n",
      "Photo Editor Pro : 100000000.0\n",
      "Pic Collage - Photo Editor : 50000000.0\n",
      "Photo Editor by Aviary : 50000000.0\n",
      "Video Editor Music,Cut,No Crop : 50000000.0\n",
      "Pixlr – Free Photo Editor : 50000000.0\n",
      "Adobe Photoshop Express:Photo Editor Collage Maker : 50000000.0\n",
      "BeautyPlus - Easy Photo Editor & Selfie Camera : 100000000.0\n",
      "PicsArt Photo Studio: Collage Maker & Pic Editor : 100000000.0\n",
      "Photo Collage Editor : 100000000.0\n",
      "InstaSize Photo Filters & Collage Editor : 50000000.0\n",
      "Z Camera - Photo Editor, Beauty Selfie, Collage : 100000000.0\n",
      "PhotoGrid: Video & Pic Collage Maker, Photo Editor : 100000000.0\n",
      "Candy Camera - selfie, beauty camera, photo editor : 100000000.0\n",
      "YouCam Perfect - Selfie Photo Editor : 100000000.0\n",
      "Snapseed : 50000000.0\n",
      "Camera360: Selfie Photo Editor with Funny Sticker : 100000000.0\n",
      "Keepsafe Photo Vault: Hide Private Photos & Videos : 50000000.0\n",
      "MakeupPlus - Your Own Virtual Makeup Artist : 50000000.0\n",
      "S Photo Editor - Collage Maker , Photo Collage : 100000000.0\n",
      "AR effect : 100000000.0\n",
      "SNOW - AR Camera : 50000000.0\n",
      "Cymera Camera- Photo Editor, Filter,Collage,Layout : 100000000.0\n",
      "LINE Camera - Photo editor : 100000000.0\n",
      "Boomerang from Instagram : 50000000.0\n",
      "Photo Lab Picture Editor: face effects, art frames : 50000000.0\n",
      "MomentCam Cartoons & Stickers : 50000000.0\n",
      "Photo Editor Collage Maker Pro : 100000000.0\n"
     ]
    }
   ],
   "source": [
    "print('PHOTOGRAPHY\\n')\n",
    "print(f'Name of application: its number of installs\\n')      \n",
    "for entry in google_apps:\n",
    "    if entry[1] == 'PHOTOGRAPHY' and (entry[5] > 10000000):\n",
    "        print(f'{entry[0]} : {entry[5]}')"
   ]
  },
  {
   "cell_type": "markdown",
   "metadata": {},
   "source": [
    "As with the \"VIDEO_PLAYERS\" genre, `PHOTOGRAPHY` also has some potential - it can be another photo editor for certain purposes. But there are many such applications, it is worth exploring this area better in the future."
   ]
  },
  {
   "cell_type": "code",
   "execution_count": 33,
   "metadata": {
    "scrolled": true
   },
   "outputs": [
    {
     "name": "stdout",
     "output_type": "stream",
     "text": [
      "PRODUCTIVITY\n",
      "\n",
      "Name of application: its number of installs\n",
      "\n",
      "Microsoft Word : 500000000.0\n",
      "All-In-One Toolbox: Cleaner, Booster, App Manager : 10000000.0\n",
      "AVG Cleaner – Speed, Battery & Memory Booster : 10000000.0\n",
      "QR Scanner & Barcode Scanner 2018 : 10000000.0\n",
      "Chrome Beta : 10000000.0\n",
      "Microsoft Outlook : 100000000.0\n",
      "Google PDF Viewer : 10000000.0\n",
      "My Claro Peru : 5000000.0\n",
      "Google Assistant : 10000000.0\n",
      "Microsoft OneDrive : 100000000.0\n",
      "Calculator - unit converter : 50000000.0\n",
      "Microsoft OneNote : 100000000.0\n",
      "Metro name iD : 10000000.0\n",
      "Google Keep : 100000000.0\n",
      "Archos File Manager : 5000000.0\n",
      "ES File Explorer File Manager : 100000000.0\n",
      "ASUS SuperNote : 10000000.0\n",
      "HTC File Manager : 10000000.0\n",
      "Dropbox : 500000000.0\n",
      "ASUS Quick Memo : 10000000.0\n",
      "HTC Calendar : 10000000.0\n",
      "Google Docs : 100000000.0\n",
      "ASUS Calling Screen : 10000000.0\n",
      "lifebox : 5000000.0\n",
      "Yandex.Disk : 5000000.0\n",
      "Content Transfer : 5000000.0\n",
      "HTC Mail : 10000000.0\n",
      "Advanced Task Killer : 50000000.0\n",
      "MyVodafone (India) - Online Recharge & Pay Bills : 10000000.0\n",
      "Microsoft PowerPoint : 100000000.0\n",
      "Microsoft Translator : 5000000.0\n",
      "My Airtel-Online Recharge, Pay Bill, Wallet, UPI : 50000000.0\n",
      "Samsung Notes : 100000000.0\n",
      "Do It Later: Tasks & To-Dos : 50000000.0\n",
      "Verizon Cloud : 50000000.0\n",
      "myAT&T : 50000000.0\n",
      "SwiftKey Keyboard : 100000000.0\n",
      "MEGA : 50000000.0\n",
      "Keeper: Free Password Manager & Secure Vault : 10000000.0\n",
      "Wunderlist: To-Do List & Tasks : 10000000.0\n",
      "Todoist: To-do lists for task management & errands : 10000000.0\n",
      "Trello : 5000000.0\n",
      "Easy Voice Recorder : 10000000.0\n",
      "CM FILE MANAGER HD : 10000000.0\n",
      "File Browser by Astro (File Manager) : 50000000.0\n",
      "The Maner : 5000000.0\n",
      "AndroZip™ FREE File Manager : 10000000.0\n",
      "Google Drive : 1000000000.0\n",
      "Adobe Acrobat Reader : 100000000.0\n",
      "Google Sheets : 100000000.0\n",
      "Microsoft Excel : 100000000.0\n",
      "Polaris Office - Word, Docs, Sheets, Slide, PDF : 10000000.0\n",
      "WPS Office - Word, Docs, PDF, Note, Slide & Sheet : 100000000.0\n",
      "Google Slides : 100000000.0\n",
      "ColorNote Notepad Notes : 100000000.0\n",
      "Note Everything : 5000000.0\n",
      "Keep My Notes - Notepad & Memo : 5000000.0\n",
      "Notepad : 10000000.0\n",
      "Ultimate Notepad : 5000000.0\n",
      "Notepad & To do list : 10000000.0\n",
      "Evernote – Organizer, Planner for Notes & Memos : 100000000.0\n",
      "Any.do: To-do list, Calendar, Reminders & Planner : 10000000.0\n",
      "Calendar Widget Month + Agenda : 5000000.0\n",
      "DigiCal Calendar Agenda : 5000000.0\n",
      "Jorte Calendar & Organizer : 10000000.0\n",
      "Business Calendar 2 : 5000000.0\n",
      "Google Calendar : 500000000.0\n",
      "aCalendar - Android Phone : 10000000.0\n",
      "G Cloud Backup : 5000000.0\n",
      "MediaFire : 5000000.0\n",
      "Cloud Print : 500000000.0\n",
      "Fake Call - Fake Caller ID : 10000000.0\n",
      "AutoCAD - DWG Viewer & Editor : 10000000.0\n",
      "Mobile Security & Antivirus : 10000000.0\n",
      "EBookDroid - PDF & DJVU Reader : 5000000.0\n",
      "Mobizen Screen Recorder - Record, Capture, Edit : 50000000.0\n",
      "S Note : 10000000.0\n",
      "AT&T Mobile Transfer : 10000000.0\n",
      "U+Box : 10000000.0\n",
      "NQ Mobile Security & Antivirus : 10000000.0\n",
      "QR Droid : 50000000.0\n",
      "PDF Viewer & Book Reader : 5000000.0\n",
      "Alarm Clock: Stopwatch & Timer : 50000000.0\n",
      "Mobile Security: Antivirus, Web Scan & App Lock : 10000000.0\n",
      "CamScanner - Phone PDF Creator : 100000000.0\n",
      "LOCX Applock Lock Apps & Photo : 10000000.0\n",
      "To Do List : 5000000.0\n",
      "Clean My Android : 5000000.0\n",
      "APUS Booster - Space Cleaner & Booster : 10000000.0\n",
      "Ginger Keyboard - Emoji, GIFs, Themes & Games : 5000000.0\n",
      "iTranslate Translator & Dictionary : 10000000.0\n"
     ]
    }
   ],
   "source": [
    "print('PRODUCTIVITY\\n')\n",
    "print(f'Name of application: its number of installs\\n')      \n",
    "for entry in google_apps:\n",
    "    if entry[1] == 'PRODUCTIVITY' and (entry[5] > 1000000):\n",
    "        print(f'{entry[0]} : {entry[5]}')"
   ]
  },
  {
   "cell_type": "markdown",
   "metadata": {},
   "source": [
    "We could see here a lot of useful tools for working with computer, this area definitely has some room for imagination.  \n",
    "But also it is quiet broad - the search for the market needs of this area will take some time, especially for two markets. And, in addition, there is nothing similar in App Store in the first positions - it will be hard to create something useful for both stores."
   ]
  },
  {
   "cell_type": "markdown",
   "metadata": {},
   "source": [
    "Our task now is to `find such an application genre that will be relevant for both markets - App Store and Google Play`.  \n",
    "So, let's take a look at `BOOKS_AND_REFERENCE` Google Play genre (8.767.811 installs, 11th place) - because we found this genre as suitable for App Store.  \n",
    "And then we will come back to App Store genre `Photo & Video` (ratings count: 28.441, 9th place), because in Google Play genres `PHOTOGRAPHY` and `VIDEO_PLAYERS` we found promising."
   ]
  },
  {
   "cell_type": "code",
   "execution_count": 34,
   "metadata": {},
   "outputs": [
    {
     "name": "stdout",
     "output_type": "stream",
     "text": [
      "BOOKS_AND_REFERENCE\n",
      "\n",
      "Name of application: its number of installs\n",
      "\n",
      "Wikipedia : 10000000.0\n",
      "Cool Reader : 10000000.0\n",
      "FBReader: Favorite Book Reader : 10000000.0\n",
      "Google Play Books : 1000000000.0\n",
      "AlReader -any text book reader : 5000000.0\n",
      "Ebook Reader : 5000000.0\n",
      "Read books online : 5000000.0\n",
      "Ancestry : 5000000.0\n",
      "HTC Help : 10000000.0\n",
      "Moon+ Reader : 10000000.0\n",
      "Bible : 100000000.0\n",
      "Amazon Kindle : 100000000.0\n",
      "Aldiko Book Reader : 10000000.0\n",
      "Wattpad 📖 Free Books : 100000000.0\n",
      "Dictionary - WordWeb : 5000000.0\n",
      "50000 Free eBooks & Free AudioBooks : 5000000.0\n",
      "Al-Quran (Free) : 10000000.0\n",
      "Al Quran Indonesia : 10000000.0\n",
      "Al'Quran Bahasa Indonesia : 10000000.0\n",
      "Al Quran : EAlim - Translations & MP3 Offline : 5000000.0\n",
      "Quran for Android : 10000000.0\n",
      "Audiobooks from Audible : 100000000.0\n",
      "Dictionary.com: Find Definitions for English Words : 10000000.0\n",
      "English Dictionary - Offline : 10000000.0\n",
      "Bible KJV : 5000000.0\n",
      "NOOK: Read eBooks & Magazines : 10000000.0\n",
      "Dictionary : 10000000.0\n",
      "Spanish English Translator : 10000000.0\n",
      "Dictionary - Merriam-Webster : 10000000.0\n",
      "JW Library : 10000000.0\n",
      "Oxford Dictionary of English : Free : 10000000.0\n",
      "English Hindi Dictionary : 10000000.0\n",
      "English to Hindi Dictionary : 5000000.0\n"
     ]
    }
   ],
   "source": [
    "print('BOOKS_AND_REFERENCE\\n')\n",
    "print(f'Name of application: its number of installs\\n')      \n",
    "for entry in google_apps:\n",
    "    if entry[1] == 'BOOKS_AND_REFERENCE' and (entry[5] > 1000000):\n",
    "        print(f'{entry[0]} : {entry[5]}')"
   ]
  },
  {
   "cell_type": "markdown",
   "metadata": {},
   "source": [
    "Just like App Store, `BOOKS_AND_REFERENCE` genre in Google Play has\n",
    "religious books, dictionaries, electronic readers and so on."
   ]
  },
  {
   "cell_type": "code",
   "execution_count": 35,
   "metadata": {
    "scrolled": true
   },
   "outputs": [
    {
     "name": "stdout",
     "output_type": "stream",
     "text": [
      "Photo & Video\n",
      "\n",
      "Name of application: its number of installs\n",
      "\n",
      "Instagram : 2161558\n",
      "Snapchat : 323905\n",
      "YouTube - Watch Videos, Music, and Live Streams : 278166\n",
      "Pic Collage - Picture Editor & Photo Collage Maker : 123433\n",
      "Funimate video editor: add cool effects to videos : 123268\n",
      "musical.ly - your video social network : 105429\n",
      "Photo Collage Maker & Photo Editor - Live Collage : 93781\n",
      "Vine Camera : 90355\n",
      "Google Photos - unlimited photo and video storage : 88742\n",
      "Flipagram : 79905\n",
      "Mixgram - Picture Collage Maker - Pic Photo Editor : 54282\n",
      "Shutterfly: Prints, Photo Books, Cards Made Easy : 51427\n",
      "Pic Jointer – Photo Collage, Camera Effects Editor : 51330\n",
      "Color Pop Effects - Photo Editor & Picture Editing : 45320\n",
      "Photo Grid - photo collage maker & photo editor : 40531\n",
      "iSwap Faces LITE : 39722\n",
      "MOLDIV - Photo Editor, Collage & Beauty Camera : 39501\n",
      "Photo Editor by Aviary : 39501\n",
      "Photo Lab: Picture Editor, effects & fun face app : 34585\n",
      "Rookie Cam - Photo Editor & Filter Camera : 33921\n",
      "FotoRus -Camera & Photo Editor & Pic Collage Maker : 32558\n",
      "PicsArt Photo Studio: Collage Maker & Pic Editor : 29078\n",
      "Quik – GoPro Video Editor to edit clips with music : 28654\n",
      "Splice - Video Editor + Movie Maker by GoPro : 28189\n",
      "FreePrints – Photos Delivered : 26060\n",
      "Triller - Music Video & Film Maker : 25683\n",
      "Ghost Lens+Scary Photo Video Edit&Collage Maker : 18316\n",
      "Camera360 - Selfie Filter Camera, Photo Editor : 16729\n",
      "InstaMag - Free Pic and Photo Collage Maker : 16221\n",
      "Over— Edit Photos, Add Text & Captions to Pictures : 16221\n",
      "Photo Transfer App - Easy backup of photos+videos : 15654\n",
      "InstaSize: Photo Editor, Picture Effects & Collage : 15605\n",
      "Prisma: Photo Editor, Art Filters Pic Effects : 15060\n",
      "Filterra – Photo Editor, Effects for Pictures : 14744\n",
      "YouCam Makeup: Magic Makeup Selfie Cam : 14188\n",
      "MSQRD — Live Filters & Face Swap for Video Selfies : 12982\n",
      "Artisto – Video and Photo Editor with Art Filters : 12963\n",
      "InShot Video Editor Music, No Crop, Cut : 12779\n",
      "Layout from Instagram : 12616\n",
      "Face Swap App- Funny Face Changer Photo Effects : 11977\n",
      "Moments - private albums with friends and family : 11955\n",
      "VSCO : 11174\n",
      "Retrica - Selfie Camera with Filter, Sticker & GIF : 11021\n",
      "VivaVideo - Best Video Editor & Photo Movie Maker : 10618\n",
      "Prime Photos from Amazon : 10511\n",
      "Canva - Graphic Design & Photo Editing : 9114\n",
      "Photo Editor- : 9095\n",
      "Snapseed : 8683\n",
      "You Doodle - draw on photos & pictures, add text : 8520\n",
      "PIP Camera-Selfie Cam&Pic Collage&Photo Editor : 8454\n",
      "BeautyPlus - Selfie Camera for a Beautiful Image : 7503\n",
      "Baby Story - Pregnancy Pics Baby Milestones Photo : 6700\n",
      "Capture - Control Your GoPro Camera - Share Video : 6542\n",
      "Meitu : 6478\n",
      "Visage makeup editor plus photo teeth whitener : 5767\n",
      "Video & TV Cast for Chromecast: Best Browser to cast and stream webvideos and local videos on TV & Displays : 5676\n",
      "Adobe Photoshop Mix - Cut out, combine, create : 5253\n",
      "Collageable - Photo Collage Maker, Pic Grid Free : 5112\n",
      "Bazaart Photo Editor Pro and Picture Collage Maker : 4909\n",
      "InstaBeauty -Camera&Photo Editor&Pic Collage Maker : 4818\n",
      "YouCam Perfect - Photo & Selfie Editor : 4293\n",
      "PHHHOTO - Look Alive : 4280\n",
      "MuseCam - Edit Photos & Manual Camera : 4267\n",
      "VR Tube - Virtual Reality 360 Video Player : 4142\n",
      "Fyuse - 3D Photos : 4126\n",
      "MakeupPlus - Natural, Professional Makeup Looks : 3987\n",
      "LINE Camera - Photo editor, Animated Stamp, Filter : 3978\n",
      "Printicular Print Photos - 1 Hour Pickup : 3909\n",
      "Lumyer - augmented reality camera effects : 3896\n",
      "KODAK Kiosk Connect App : 3711\n",
      "Cool Wallpapers for Pokemon : 3694\n",
      "Pro Editor - Video Maker for FaceBook & Youtube : 3668\n",
      "Lomotif Music Video Editor - Add Music & Effects! : 3507\n",
      "Epson iPrint : 2838\n",
      "YouCam Fun - Live Selfie Video Filters : 2522\n",
      "A Color Story : 2436\n",
      "Boomerang from Instagram : 2373\n",
      "B612 - Trendy Filters, Selfiegenic Camera : 2275\n",
      "Polarr Photo Editor - Photo Editing Tools for All : 2246\n",
      "Retouch Vogue - Facetune Wrinkles & Pimples Makeup : 2235\n",
      "Kanvas - Express Yourself : 2177\n",
      "Easy Save - Repost your Instagram Photos & Videos : 2159\n",
      "Meitu HD : 2150\n",
      "Pixlr - Photo Collages, Effects, Overlays, Filters : 2099\n",
      "Patternator Pattern Maker Backgrounds & Wallpapers : 2092\n",
      "BeautyCam - AR Carnie selfie : 2082\n",
      "GIPHY. The GIF Search Engine for All the GIFs : 2069\n",
      "Adobe Photoshop Lightroom for iPad : 2005\n",
      "SuperPhoto - Photo Effects & Filters : 1952\n",
      "Solo Selfie : 1799\n",
      "Felt: Birthday & Greeting Cards & Thank You Card : 1724\n",
      "Perfect Image - Pic Collage Maker, Add Text to Photo, Cool Picture Editor : 1646\n",
      "InstaBoard  for Instagram - photos & videos repost : 1571\n",
      "Adobe Photoshop Lightroom for iPhone : 1494\n",
      "PhotoScan - scanner by Google Photos : 1421\n",
      "RealTimes: Video Maker : 1274\n",
      "Meipai : 1190\n",
      "POTO - Photo Collage Maker : 1149\n",
      "SNOW - Selfie, Motion sticker, Fun camera : 1115\n",
      "Bestie-Beauty Camera 360 & Portrait Selfie Editor : 1035\n",
      "Facetune 2 : 1009\n",
      "Pitu : 968\n",
      "intoLive - Custom Live Photos wallpaper maker : 938\n",
      "LOL Movie: Change your face + voice! : 849\n",
      "Camcorder - Record VHS Home Videos : 830\n",
      "Anime Power FX : 807\n",
      "Squaready for Video - Convert Rectangle Movie Clip into Square Shape for Instagram : 778\n",
      "Canon PRINT Inkjet/SELPHY : 689\n",
      "Microsoft Pix Camera : 678\n",
      "Kwai - Share your video moments : 668\n",
      "Polaroid Print App - ZIP : 631\n",
      "Photo Quilt - Auto Collage Maker : 599\n",
      "Cymera - Photo & Beauty Editor & Collage : 523\n",
      "FACIE : 514\n",
      "Photo Editing Effects & Collage Maker - Effectshop : 422\n",
      "Pic-it Collage - Photo Collage Maker and Editor : 415\n",
      "Candy Camera : 397\n",
      "Microsoft Selfie : 375\n",
      "Color Pop Free - Selective Color Splash Effects and Black & White Photography Editor : 352\n",
      "SelfieCity : 252\n",
      "InstaSave for Instagram - Download & Repost your own Videos & Photos for Free : 243\n",
      "CATCHY Photos-Easter Bunny, Tooth Fairy and more.. : 228\n",
      "SW/NG - Living Photos. Memories that Swing. : 222\n",
      "SlideStory - Create a slideshow movie and a snap video : 220\n",
      "April - Layouts, Photo Collage, and Poster Maker : 165\n",
      "PopCam　Photo : 160\n",
      "Foodie - Delicious Camera for Food : 144\n",
      "FreeVRPlayer : 134\n",
      "Confetti - Geofilter Design Maker for Snapchat : 120\n",
      "Philm-Video&Photo Editor,REAL-TIME Magic Filter : 103\n",
      "Digital Domain : 102\n",
      "Homido 360 VR player : 100\n",
      "Best 9 for Instagram : 88\n",
      "VR Video World - Virtual Reality : 88\n",
      "FilmStory - For All Your Video Editing Needs : 66\n",
      "GIFYme - Create video loops and gifs with amazing filters for Whatsapp and Instagram : 65\n",
      "Kiosk Photo Transfer by Fujifilm : 58\n",
      "Pikazo – AI art that YOU control : 56\n",
      "lollicam - photo, video, and selfie camera : 51\n",
      "LOOKS - Real Makeup Camera : 25\n",
      "C CHANNEL -Watch tips & tricks videos for girls : 21\n",
      "in-capturing moments in life : 16\n",
      "Everfilter - transform your photos into artworks : 15\n",
      "GoSnaps - Share Screenshots for Pokémon GO : 12\n",
      "NightShooting : 9\n",
      "MixChannel : 6\n",
      "Simple Camera - Fast Minimal Design : 3\n",
      "SwapperFace - Face Swap Free, Live Mask Effects : 2\n",
      "LINE Moments - Capture Your Fun Moments : 1\n",
      "Video speed editor - VBooster : 1\n",
      "Video Smith - A Powerful video editing tool set : 1\n",
      "MeiCam -  Video Production Master : 0\n",
      "Instant X - Take instant-camera-like photo with double exposure and bulb mode : 0\n",
      "EOPAN : 0\n",
      "StageCameraHD : 0\n",
      "Pictalive for Live Photos - Create from videos : 0\n",
      "BlurEffect-Blur Photo & Video, Hide Face : 0\n",
      "camera for filter : 0\n",
      "Emojil - original emoji stamp, decoration camera : 0\n",
      "CelebrityDiagnosis! : 0\n"
     ]
    }
   ],
   "source": [
    "print('Photo & Video\\n')\n",
    "print(f'Name of application: its number of installs\\n')      \n",
    "for entry in apple_apps:\n",
    "    if entry[11] == 'Photo & Video':\n",
    "        print(f'{entry[1]} : {entry[5]}')"
   ]
  },
  {
   "cell_type": "markdown",
   "metadata": {},
   "source": [
    "Despite the fact that the dominant part of the users is again in the hands of well-known applications, here we can still see `photo and video editing applications`, which also have their own audience.\n",
    "\n",
    "Now that we've outlined the common genres for both markets, let's take a quick look at Google Play's secondary genres - perhaps it will also provide some insight."
   ]
  },
  {
   "cell_type": "code",
   "execution_count": 36,
   "metadata": {},
   "outputs": [
    {
     "name": "stdout",
     "output_type": "stream",
     "text": [
      "Category : average amount of users/installs\n",
      "\n",
      "Communication : 38456119.17\n",
      "Adventure;Action & Adventure : 35333333.33\n",
      "Video Players & Editors : 24947335.8\n",
      "Social : 23253652.13\n",
      "Arcade : 22888365.49\n",
      "Casual : 19569221.6\n",
      "Puzzle;Action & Adventure : 18366666.67\n",
      "Photography : 17840110.4\n",
      "Educational;Action & Adventure : 17016666.67\n",
      "Productivity : 16787331.34\n",
      "Racing : 15910645.68\n",
      "Travel & Local : 14051476.15\n",
      "Casual;Action & Adventure : 12916666.67\n",
      "Action : 12603588.87\n",
      "Strategy : 11199902.53\n",
      "Tools : 10802461.25\n",
      "Lifestyle;Pretend Play : 10000000.0\n",
      "Casual;Music & Video : 10000000.0\n",
      "Tools;Education : 10000000.0\n",
      "Card;Action & Adventure : 10000000.0\n",
      "Adventure;Education : 10000000.0\n",
      "Role Playing;Brain Games : 10000000.0\n",
      "News & Magazines : 9549178.47\n",
      "Music : 9445583.33\n",
      "Educational;Pretend Play : 9375000.0\n",
      "Puzzle;Brain Games : 9280666.67\n",
      "Word : 9094458.7\n",
      "Racing;Action & Adventure : 8816666.67\n",
      "Books & Reference : 8767811.89\n",
      "Puzzle : 8302861.91\n",
      "Video Players & Editors;Music & Video : 7500000.0\n",
      "Shopping : 7036877.31\n",
      "Role Playing;Action & Adventure : 7000000.0\n",
      "Casual;Pretend Play : 6957142.86\n",
      "Entertainment;Music & Video : 6413333.33\n",
      "Action;Action & Adventure : 5888888.89\n",
      "Entertainment : 5602792.78\n",
      "Education;Brain Games : 5333333.33\n",
      "Casual;Creativity : 5333333.33\n",
      "Role Playing;Pretend Play : 5275000.0\n",
      "Personalization : 5201482.61\n",
      "Weather : 5074486.2\n",
      "Music;Music & Video : 5050000.0\n",
      "Sports;Action & Adventure : 5050000.0\n",
      "Video Players & Editors;Creativity : 5000000.0\n",
      "Adventure : 4922785.33\n",
      "Simulation;Action & Adventure : 4857142.86\n",
      "Education;Education : 4759517.0\n",
      "Board : 4759209.12\n",
      "Sports : 4596842.62\n",
      "Educational;Brain Games : 4433333.33\n",
      "Health & Fitness : 4188821.99\n",
      "Maps & Navigation : 4056941.77\n",
      "Entertainment;Creativity : 4000000.0\n",
      "Role Playing : 3965645.42\n",
      "Card : 3815462.5\n",
      "Trivia : 3475712.7\n",
      "Simulation : 3475484.09\n",
      "Casino : 3427910.53\n",
      "Entertainment;Brain Games : 3314285.71\n",
      "Arcade;Action & Adventure : 3190909.18\n",
      "Board;Action & Adventure : 3000000.0\n",
      "Entertainment;Pretend Play : 3000000.0\n",
      "Education;Creativity : 2875000.0\n",
      "Educational;Creativity : 2333333.33\n",
      "Entertainment;Action & Adventure : 2333333.33\n",
      "Art & Design : 2122850.94\n",
      "Education;Music & Video : 2033333.33\n",
      "Food & Drink : 1924897.74\n",
      "Education;Pretend Play : 1800000.0\n",
      "Educational;Education : 1737143.14\n",
      "Business : 1712290.15\n",
      "Casual;Brain Games : 1425916.67\n",
      "Lifestyle : 1412998.34\n",
      "Finance : 1387692.48\n",
      "House & Home : 1331540.56\n",
      "Parenting;Music & Video : 1118333.33\n",
      "Entertainment;Education : 1000000.0\n",
      "Casual;Education : 1000000.0\n",
      "Arcade;Pretend Play : 1000000.0\n",
      "Education;Action & Adventure : 1000000.0\n",
      "Strategy;Action & Adventure : 1000000.0\n",
      "Parenting;Brain Games : 1000000.0\n",
      "Health & Fitness;Action & Adventure : 1000000.0\n",
      "Racing;Pretend Play : 1000000.0\n",
      "Strategy;Creativity : 1000000.0\n",
      "Dating : 854028.83\n",
      "Comics : 831873.15\n",
      "Puzzle;Creativity : 750000.0\n",
      "Auto & Vehicles : 647317.82\n",
      "Libraries & Demo : 638503.73\n",
      "Education : 550185.44\n",
      "Simulation;Pretend Play : 550000.0\n",
      "Beauty : 513151.89\n",
      "Art & Design;Pretend Play : 500000.0\n",
      "Music & Audio;Music & Video : 500000.0\n",
      "Strategy;Education : 500000.0\n",
      "Communication;Creativity : 500000.0\n",
      "Parenting : 467977.5\n",
      "Parenting;Education : 452857.14\n",
      "Educational : 411184.85\n",
      "Board;Brain Games : 407142.86\n",
      "Art & Design;Creativity : 285000.0\n",
      "Events : 253542.22\n",
      "Medical : 120550.62\n",
      "Art & Design;Action & Adventure : 100000.0\n",
      "Health & Fitness;Education : 100000.0\n",
      "Travel & Local;Action & Adventure : 100000.0\n",
      "Lifestyle;Education : 100000.0\n",
      "Puzzle;Education : 100000.0\n",
      "Comics;Creativity : 50000.0\n",
      "Books & Reference;Education : 1000.0\n",
      "Simulation;Education : 500.0\n",
      "Trivia;Education : 100.0\n"
     ]
    }
   ],
   "source": [
    "google_avg_genres_minor = avg_count_by_genre(google_apps, 9, 5)"
   ]
  },
  {
   "cell_type": "markdown",
   "metadata": {},
   "source": [
    "Minor Google genres confirm the prevailing opinion - in the first places there are `Communication`, `Video Players & Editors`.  \n",
    "And also some \"Action & Adventure\" and \"Arcade\", which after quick search are recognized as games genres, which are not so popular in App Store.\n",
    "\n",
    "Worth reminding the most popular App Store genres, no games or adventures here (by rating count):\n",
    "\n",
    "Navigation : 86090.33  \n",
    "Reference : 74942.11  \n",
    "Social Networking : 71548.35  \n",
    "Music : 57326.53  \n",
    "Weather : 52279.89  \n",
    "Book : 39758.5  \n",
    "Food & Drink : 33333.92  \n",
    "Finance : 31467.94  \n",
    "\n",
    "The last step is to `correlate the rating` of applications in stores `by their number and by their popularity`.\n",
    "\n",
    "App Store\n",
    "Category : percantage of users\n",
    "\n",
    "Games : 58.14  \n",
    "Entertainment : 7.89  \n",
    "Photo & Video : 4.97  \n",
    "Education : 3.66  \n",
    "Social Networking : 3.29  \n",
    "Shopping : 2.61  \n",
    "Utilities : 2.52  \n",
    "Sports : 2.14  \n",
    "Music : 2.05  \n",
    "Health & Fitness : 2.02  \n",
    "Productivity : 1.74  \n",
    "Lifestyle : 1.58  \n",
    "News : 1.34  \n",
    "Travel : 1.24  \n",
    "Finance : 1.12  \n",
    "Weather : 0.87  \n",
    "Food & Drink : 0.81  \n",
    "Reference : 0.56  \n",
    "Business : 0.53  \n",
    "Book : 0.43  \n",
    "Navigation : 0.19  \n",
    "Medical : 0.19  \n",
    "Catalogs : 0.12  \n",
    "\n",
    "As we could see, the total volume of applications of the genres we have chosen - \"Photo & Video\" (4.97), \"Reference\" (0.56), \"Book\" (0.43), - is small in App Store.\n",
    "\n",
    "Google Play, major genres\n",
    "Category : percantage of users\n",
    "\n",
    "FAMILY : 18.91  \n",
    "GAME : 9.72  \n",
    "TOOLS : 8.46  \n",
    "BUSINESS : 4.59  \n",
    "LIFESTYLE : 3.9  \n",
    "PRODUCTIVITY : 3.89  \n",
    "FINANCE : 3.7  \n",
    "MEDICAL : 3.53  \n",
    "SPORTS : 3.4  \n",
    "PERSONALIZATION : 3.32  \n",
    "COMMUNICATION : 3.24  \n",
    "HEALTH_AND_FITNESS : 3.08  \n",
    "PHOTOGRAPHY : 2.94  \n",
    "NEWS_AND_MAGAZINES : 2.8  \n",
    "SOCIAL : 2.66  \n",
    "TRAVEL_AND_LOCAL : 2.34  \n",
    "SHOPPING : 2.25  \n",
    "BOOKS_AND_REFERENCE : 2.14  \n",
    "DATING : 1.86  \n",
    "VIDEO_PLAYERS : 1.79  \n",
    "MAPS_AND_NAVIGATION : 1.4  \n",
    "FOOD_AND_DRINK : 1.24  \n",
    "EDUCATION : 1.16  \n",
    "ENTERTAINMENT : 0.96  \n",
    "LIBRARIES_AND_DEMO : 0.94  \n",
    "AUTO_AND_VEHICLES : 0.93  \n",
    "HOUSE_AND_HOME : 0.82  \n",
    "WEATHER : 0.8  \n",
    "EVENTS : 0.71  \n",
    "PARENTING : 0.65  \n",
    "ART_AND_DESIGN : 0.64  \n",
    "COMICS : 0.62  \n",
    "BEAUTY : 0.6\n",
    "\n",
    "On Google Play genres \"COMMUNICATION\" (3.24 %), \"SOCIAL\" (2.66 %), \"BOOKS_AND_REFERENCE\" (2.14 %), and \"VIDEO_PLAYERS\" (1.79 %) - also occupy a small part of all apps.\n",
    "\n",
    "This means that we will have potential space in both markets for our ideas if we choose the genres above."
   ]
  },
  {
   "cell_type": "markdown",
   "metadata": {},
   "source": [
    "# Results\n",
    "\n",
    "Of course, there is still a lot of work ahead - it is necessary to analyze the needs of the markets, as well as to determine the portrait and features of our future application.  \n",
    "But it is already possible to identify several genres of applications that are popular among users and have a certain potential for creating an application.\n",
    "\n",
    "The first direction is `References & Books`.  \n",
    "Here an application with interactive tools looks promising - for a fiction book, or better - for a series of books, or for educational materials on any subject.\n",
    "\n",
    "The second direction is `Photo & Video`.  \n",
    "This environment seems to be very fertile for applications - different photo and video editors can serve slightly different purposes, hence their diversity.\n",
    "\n",
    "On the whole, we should also highlight all-favourite `Social Networking` genre, also known as `Social` or `Communications`.  \n",
    "But here the analysis of market needs will not be enough - good ideas are required, otherwise the new application may not be noticed. In addition, to be competitive, an application of this genre will require significant marketing costs.\n",
    "\n",
    "Summing up, we can say that it is quite realistic to create an application that can be profitable for both markets - Apple Store and Google Play, and maybe our app won't be extremely popular, but it has the chances to be balanced in terms of money, efforts and time."
   ]
  }
 ],
 "metadata": {
  "kernelspec": {
   "display_name": "Python 3",
   "language": "python",
   "name": "python3"
  },
  "language_info": {
   "codemirror_mode": {
    "name": "ipython",
    "version": 3
   },
   "file_extension": ".py",
   "mimetype": "text/x-python",
   "name": "python",
   "nbconvert_exporter": "python",
   "pygments_lexer": "ipython3",
   "version": "3.8.2"
  }
 },
 "nbformat": 4,
 "nbformat_minor": 2
}
